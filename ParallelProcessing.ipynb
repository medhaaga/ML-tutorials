{
 "cells": [
  {
   "cell_type": "markdown",
   "metadata": {},
   "source": [
    "# STAT 548/CSE 547 Tutorial: Parallel Processing\n",
    "\n",
    "### **Instructor**:</b> Marina Meila\n",
    "### **TA**: Medha Agarwal\n",
    "### **Date**: May 09, 2025\n",
    "\n",
    "---\n",
    "\n",
    "## ⏰ Previously...\n",
    "\n",
    "We looked at vectorization - both as a process of converting scalar operations (loop-based) into array operations and as a method for converting input data from its raw format (i.e. text ) into vectors of real numbers.\n",
    "\n",
    "---\n",
    "\n",
    "## 📘 Tutorial Overview\n",
    "\n",
    "In this tutorial, we will look at methods for paralell processing using multiple cores of CPU and GPUs. We iwll look at applications like vectorization, embarassingly parallel loops, or ML model training that benefit from parallel processing."
   ]
  },
  {
   "cell_type": "markdown",
   "metadata": {},
   "source": [
    "## 1 Compute Environments\n",
    "\n",
    "\n",
    "### 1.1. Basic Hardware\n",
    "\n",
    "*Source:* [NVIDIA](https://blogs.nvidia.com/blog/2009/12/16/whats-the-difference-between-a-cpu-and-a-gpu/) and [TDS](https://towardsdatascience.com/what-is-a-gpu-and-do-you-need-one-in-deep-learning-718b9597aa0d)\n",
    "\n",
    "- Processors are electronic circuitry that execute computer instructions, whose minimal unit is a **transistor**. \n",
    "- The two standard processors on most systems are called the **Central Processing Unit (CPU)** and the **Graphic Processing Unit (GPU)**.\n",
    "- These processors differ in their allotment of transistors to computing processes. \n",
    "    - CPUs dedicate these transistors into a small number of **logical cores**, with a stronger emphasis on circuitry used for **caches** (data storage that speeds up access) and **control flow** (`if-else` statements, `for` and `while` loops, etc). \n",
    "    - GPUs, on the other hand, can have thousands of cores, each capable only of simple arithmetic operations.\n",
    "- Thus, for highly parallelizable operations (those that can be split into independent **threads**), such as matrix multiplications common in ML/DL, GPUs have become an essential part of any computing infrastructure.\n",
    "- That being said, parallelizing more complex operations, such as hyperparameter search, is still done on machines with a large number of CPU cores. Examples include **CPU Clusters** such as the Stat cluster, which uses a manager called Slurm to schedule computation.\n",
    "- **Tensor Processing Units (TPUs)** are processors that are built specifically for the tensor operations in neural networks training. Specifically, it was made to speed up the operations of TensorFlow, which used to be the dominant DL framework."
   ]
  },
  {
   "cell_type": "markdown",
   "metadata": {},
   "source": [
    "Use `htop` in a terminal in order to \"see\" the physical CPU cores at work. When running operations that make use of all of the cores (such as a large matrix multiplications), you should see the bars light up. "
   ]
  },
  {
   "cell_type": "code",
   "execution_count": 65,
   "metadata": {},
   "outputs": [
    {
     "name": "stdout",
     "output_type": "stream",
     "text": [
      "Graceful Exit\n"
     ]
    }
   ],
   "source": [
    "import numpy as np\n",
    "\n",
    "np.random.seed(123)\n",
    "\n",
    "n_sim = 10000\n",
    "n = 10000\n",
    "\n",
    "try:\n",
    "    for i in range(10000):\n",
    "        A = np.random.normal(size=(n, n))\n",
    "        B = np.random.normal(size=(n, n))\n",
    "\n",
    "        C = A @ B\n",
    "except KeyboardInterrupt:\n",
    "    print(\"Graceful Exit\")"
   ]
  },
  {
   "cell_type": "markdown",
   "metadata": {},
   "source": [
    "When working on a server, use `tmux` to let processes run in the background while you can break the connection. This is not only a convenient method, but very safe as well. A few relevant commands:\n",
    "- `tmux`: Create a session.\n",
    "- `ctrl + B`, then `%`: Create a panel within a session.\n",
    "- `ctrl + B`, then `D`: Detach from a session.\n",
    "- `tmux ls`: List the current sessions.\n",
    "- `tmux attach -t <session_name>`: Attach to a running session."
   ]
  },
  {
   "cell_type": "markdown",
   "metadata": {},
   "source": [
    "## 2. Parallelism over CPU and GPU\n",
    "\n",
    "Parallel programming is a method of speeding up computations by dividing tasks across multiple processing units that execute simultaneously. In machine learning, this is essential for handling large datasets and complex models efficiently. \n",
    "\n",
    "- CPU design philosophy: optimized for sequential processing\n",
    "\n",
    "  - Fewer, more powerful cores with complex control units\n",
    "  - Large caches and branch prediction\n",
    "  - Optimized for irregular memory access and control flow\n",
    "  - Parallelism achieved through multithreading or multiprocessing - where a few powerful cores execute different parts of a task concurrently—useful for data loading or feature processing.\n",
    "\n",
    "- GPU design philosophy: optimized for parallel processing\n",
    "  - Thousands of simpler cores\n",
    "  - Specialized for floating-point operations\n",
    "  - SIMT (Single Instruction, Multiple Thread) execution model\n",
    "  - Memory architecture optimized for throughput\n",
    "  - well-suited for operations like matrix multiplication and deep learning training\n"
   ]
  },
  {
   "cell_type": "markdown",
   "metadata": {},
   "source": [
    "## 3. Application 1: Vectorized Implementation\n",
    "\n",
    "**Implicit Parallelism**\n",
    "\n",
    "- Because matrix operations are the prototypical use case of parallelism, many computing processes can benefit from parallelization implicitly by being represented in linear algebraic form.\n",
    "- Such implementations are said to be **vectorized**. The main idea is to avoid all `for` loops where possible, and use libraries like `numpy` and `pytorch` for matrix and tensor algebra.\n",
    "- To develop software/algorithms in any kind of large-scale or production setting, it is very important to make vectorization a constant habit. A core part of why GPUs (and even CPUs) make processes faster is by distributing the load across all of the logical cores. Using `for` loops ruins this benefit and wastes valuable compute time.\n",
    "- Another separate but related issue is list concatenation; if you are trying to apply a function to a sequence of outputs, it is sometimes tempting to have a \"running\" list for which you concatenate the new value through the iteration of a `for` loop. In these sitatuations, it is always better to **pre-allocate** arrays, or be confident that you are **appending** (in $O(1)$) instead of copying the entire contents of the array every time."
   ]
  },
  {
   "cell_type": "markdown",
   "metadata": {},
   "source": [
    "#### Example: Nadaraya-Watson with Gaussian Kernel\n",
    "\n",
    "In this example, we implement multiple versions of the Nadaraya-Watson regression estimator. Specifically, consider a supervised learning problem in which we are given an $n$-sized training set $(x_1, y_1), ..., (x_n, y_n)$ of feature vectors $x_i \\in \\mathbb{R}^d$ and label $y_i \\in \\mathbb{R}$. Given a test point $x \\in \\mathbb{R}^d$, the predicted value of the label $\\hat{y}$ is given by\n",
    "\\begin{equation}\n",
    "    \\hat{y} = \\sum_{i=1}^n \\frac{y_i k\\left(\\frac{x - x_i}{h}\\right)}{\\sum_{j=1}^n k\\left(\\frac{x - x_j}{h}\\right)},\n",
    "\\end{equation}\n",
    "where\n",
    "\\begin{align*}\n",
    "    k(z) = e^{-\\frac{1}{2}||z||^2}\n",
    "\\end{align*}\n",
    "is the Gaussian kernel and and $h > 0$ is a bandwidth parameter. Kernel methods offer plenty of opportunities to replace wasteful `for` loops with efficient vectorized implementations, especially when $n$ and $d$ are very large."
   ]
  },
  {
   "cell_type": "code",
   "execution_count": 66,
   "metadata": {},
   "outputs": [],
   "source": [
    "import time\n",
    "\n",
    "from sklearn.utils.validation import check_X_y, check_array\n",
    "from sklearn.metrics import r2_score\n",
    "from sklearn.model_selection import train_test_split\n",
    "from sklearn.metrics import pairwise_distances\n",
    "import numpy as np"
   ]
  },
  {
   "cell_type": "code",
   "execution_count": 67,
   "metadata": {},
   "outputs": [],
   "source": [
    "def naive_gaussian_kernel(x1, x2, h):\n",
    "    sq_norm = 0\n",
    "    for j in range(len(x1)):\n",
    "        sq_norm += (x1[j] - x2[j]) ** 2\n",
    "    return np.exp(-0.5 * sq_norm / h ** 2)\n",
    "\n",
    "class NaiveNadarayaWatsonRegressor:\n",
    "    def __init__(self, bandwidth, kernel=naive_gaussian_kernel):\n",
    "        self.h = bandwidth\n",
    "        self.kernel = kernel\n",
    "    \n",
    "    def fit(self, X, y):\n",
    "        X, y = check_X_y(X, y)\n",
    "        \n",
    "        self.X_train = X\n",
    "        self.y_train = y\n",
    "        \n",
    "        return self\n",
    "    \n",
    "    def predict(self, X):\n",
    "        X = check_array(X)\n",
    "        \n",
    "        y_pred = []\n",
    "        for x in X:\n",
    "            num = 0\n",
    "            denom = 0\n",
    "            for i, x_i in enumerate(self.X_train):\n",
    "                num += self.y_train[i] * self.kernel(x, x_i, self.h)\n",
    "                denom += self.kernel(x, x_i, self.h)\n",
    "            y_pred.append(num / denom)\n",
    "            \n",
    "        return np.array(y_pred).reshape(-1)"
   ]
  },
  {
   "cell_type": "markdown",
   "metadata": {},
   "source": [
    "**Exercise 1:** Why does the `fit` method above simply store the training data? \n",
    "\n",
    "**Exercise 2:** What are other algorithms that might be implemented in this way? (These are referred to as **lazy learners**.\n",
    "\n",
    "**Exercise 3:** Based on our discussion of nearest neighbors in high dimensions, what kinds of operations could occur in the `fit` method for approximate lazy learners?"
   ]
  },
  {
   "cell_type": "code",
   "execution_count": 68,
   "metadata": {},
   "outputs": [],
   "source": [
    "def generate_data(n, d):\n",
    "    X = np.random.normal(size=(n, d))\n",
    "    coef = np.random.normal(size=(d,))\n",
    "    intercept = np.random.normal()\n",
    "    noise = np.random.normal(size=(n,))\n",
    "    y = (X @ coef + intercept + noise).reshape(-1)\n",
    "    \n",
    "    X_train, X_test, y_train, y_test = train_test_split(X, y, test_size=0.2, random_state=42)\n",
    "    \n",
    "    return X_train, y_train, X_test, y_test"
   ]
  },
  {
   "cell_type": "markdown",
   "metadata": {},
   "source": [
    "Using a test set $(x_1, y_1), ..., (x_n, y_n)$, we measure performance using the $R^2$ score (also known as explained variance).\n",
    "\\begin{equation}\n",
    "    R^2 = \\frac{\\sum_{i=1}^n (\\hat{y}_i - y_i)^2}{\\sum_{i=1}^n (y_i - \\bar{y})^2},\n",
    "\\end{equation}\n",
    "where\n",
    "\\begin{equation}\n",
    "    \\bar{y} = \\frac{1}{n} \\sum_{i=1}^n y_i\n",
    "\\end{equation}\n",
    "is the sample mean."
   ]
  },
  {
   "cell_type": "code",
   "execution_count": 69,
   "metadata": {},
   "outputs": [
    {
     "name": "stdout",
     "output_type": "stream",
     "text": [
      "(8000, 10)\n",
      "(8000,)\n",
      "(2000, 10)\n",
      "(2000,)\n"
     ]
    }
   ],
   "source": [
    "# DEMO: \n",
    "np.random.seed(123)\n",
    "\n",
    "n = 10000\n",
    "d = 10\n",
    "\n",
    "X_train, y_train, X_test, y_test = generate_data(n, d)\n",
    "\n",
    "print(X_train.shape)\n",
    "print(y_train.shape)\n",
    "print(X_test.shape)\n",
    "print(y_test.shape)"
   ]
  },
  {
   "cell_type": "code",
   "execution_count": 70,
   "metadata": {},
   "outputs": [
    {
     "name": "stdout",
     "output_type": "stream",
     "text": [
      "Too slow! :'(\n"
     ]
    }
   ],
   "source": [
    "try:\n",
    "    start = time.time()\n",
    "    naive_model = NaiveNadarayaWatsonRegressor(bandwidth=0.5).fit(X_train, y_train)\n",
    "    y_pred = naive_model.predict(X_test)\n",
    "    print(\"R^2: \", r2_score(y_test, y_pred))\n",
    "    end = time.time()\n",
    "    print(\"Time: %0.4f seconds.\" % (end - start))\n",
    "except KeyboardInterrupt:\n",
    "    print(\"Too slow! :'(\")"
   ]
  },
  {
   "cell_type": "markdown",
   "metadata": {},
   "source": [
    "Give evalutation set $z_1, ..., z_m$, let $K \\in \\mathbb{R}^{m \\times n}$ be the matrix such that \n",
    "\\begin{align*}\n",
    "    K_{ij} = k\\left(\\frac{z_i - x_j}{h}\\right).\n",
    "\\end{align*}\n",
    "Then, let $y = (y_1, ..., y_n)^\\top \\in \\mathbb{R}^n$ and $\\hat{y} = (\\hat{y}_1, ..., \\hat{y}_m)^\\top \\in \\mathbb{R}^m$. It holds that \n",
    "\\begin{align*}\n",
    "\\hat{y} = \\frac{Ky}{K 1_n},\n",
    "\\end{align*}\n",
    "where the division is element-wise. This will lead to a vectorized implementation. For now, we use the `sklearn` function for `pairwise_distances`, but we will soon see how to make a vectorized implementation of this as well."
   ]
  },
  {
   "cell_type": "code",
   "execution_count": 71,
   "metadata": {},
   "outputs": [],
   "source": [
    "class VectorizedNadarayaWatsonRegressor:\n",
    "    def __init__(self, bandwidth):\n",
    "        self.h = bandwidth\n",
    "    \n",
    "    def fit(self, X, y):\n",
    "        X, y = check_X_y(X, y)\n",
    "        \n",
    "        self.X_train = X\n",
    "        self.y_train = y\n",
    "        \n",
    "        return self\n",
    "    \n",
    "    def predict(self, X):\n",
    "        X = check_array(X)\n",
    "        \n",
    "        # n_eval by n_train kernel matrix.\n",
    "        kernels = np.exp(-0.5 * pairwise_distances(X, self.X_train) ** 2 / self.h ** 2)\n",
    "        \n",
    "        # Element-wise division\n",
    "        return (kernels @ self.y_train) / kernels.sum(axis=1)"
   ]
  },
  {
   "cell_type": "markdown",
   "metadata": {},
   "source": [
    "**Exercise 4:** How can we use matrix operations to implement a vectorized version of pairwise Euclidean distances? That is, given the matrix $X \\in \\mathbb{R}^{n_1 \\times d}$, and the matrix $Z \\in \\mathbb{R}^{n_1 \\times d}$, how can we produce the matrix $D \\in \\mathbb{R}^{n_1 \\times n_2}$, where\n",
    "\\begin{align*}\n",
    "    D_{ij} = ||x_i - z_j||_2 ?\n",
    "\\end{align*}\n",
    "\n",
    "**Solution:** Represent the Euclidean distance as a scalar product.\n",
    "\\begin{align*}\n",
    "    D_{ij} = ||x_i - z_j||_2 = \\sqrt{(x_i - z_j)^\\top (x_i - z_j)} = \\sqrt{x_i^\\top x_i + z_j^\\top z_j - 2 x_i^\\top z_j}.\n",
    "\\end{align*}\n",
    "The $x_i^\\top x_i$ and $z_j^\\top z_j$ terms can be computed by taking the norms of the rows of $X$ and $Z$. The cross term $x_i^\\top z_j$ can be computed via the matrix multiplication $X^\\top Z$. Do we need to compute $X^\\top X$ or $Z^\\top Z$?"
   ]
  },
  {
   "cell_type": "code",
   "execution_count": 72,
   "metadata": {},
   "outputs": [
    {
     "name": "stdout",
     "output_type": "stream",
     "text": [
      "R^2:  0.7880181382483236\n",
      "Time: 0.3733 seconds.\n"
     ]
    }
   ],
   "source": [
    "try:\n",
    "    start = time.time()\n",
    "    vectorized_model = VectorizedNadarayaWatsonRegressor(bandwidth=0.5).fit(X_train, y_train)\n",
    "    y_pred = vectorized_model.predict(X_test)\n",
    "    print(\"R^2: \", r2_score(y_test, y_pred))\n",
    "    end = time.time()\n",
    "    print(\"Time: %0.4f seconds.\" % (end - start))\n",
    "except KeyboardInterrupt:\n",
    "    print(\"Too slow! :'(\")"
   ]
  },
  {
   "cell_type": "markdown",
   "metadata": {},
   "source": [
    "#### Extending to the GPU\n",
    "\n",
    "- These kinds of operations can be made even faster by using a GPU. In order to interact with it, we use the `torch` package (PyTorch).\n",
    "- Using PyTorch is largely the same as `numpy`. The main difference is that the quintessential array object becomes a `torch.tensor` instead of a `numpy.ndarray`. Second, tensors exist on a \"device\" which can either be `\"cpu\"` for the CPU, or `\"cuda\"` for the GPU."
   ]
  },
  {
   "cell_type": "code",
   "execution_count": 73,
   "metadata": {},
   "outputs": [],
   "source": [
    "import torch\n",
    "\n",
    "def set_device():\n",
    "    # If there's a GPU available...\n",
    "    if torch.cuda.is_available():\n",
    "\n",
    "        # Tell PyTorch to use the GPU.\n",
    "        device = torch.device(\"cuda\")\n",
    "        print(\"There are %d GPU(s) available.\" % torch.cuda.device_count())\n",
    "        print(\"We will use the GPU:\", torch.cuda.get_device_name(0))\n",
    "\n",
    "    # If not...\n",
    "    else:\n",
    "        print(\"No GPU available, using the CPU instead.\")\n",
    "        device = torch.device(\"cpu\")\n",
    "\n",
    "    return device\n",
    "\n",
    "def pdist(sample_1, sample_2, eps=1e-5):\n",
    "    n_1, n_2 = sample_1.size(0), sample_2.size(0)\n",
    "    norms_1 = torch.sum(sample_1**2, dim=1, keepdim=True)\n",
    "    norms_2 = torch.sum(sample_2**2, dim=1, keepdim=True)\n",
    "    norms = (norms_1.expand(n_1, n_2) +\n",
    "             norms_2.transpose(0, 1).expand(n_1, n_2))\n",
    "    distances_squared = norms - 2 * sample_1.mm(sample_2.t())\n",
    "    return torch.sqrt(eps + torch.abs(distances_squared))\n",
    "\n",
    "class GPUNadarayaWatsonRegressor:\n",
    "    def __init__(self, bandwidth):\n",
    "        self.h = bandwidth\n",
    "        self.device = set_device()\n",
    "    \n",
    "    def fit(self, X, y):\n",
    "        X, y = check_X_y(X, y)\n",
    "        \n",
    "        self.X_train = torch.from_numpy(X).to(self.device)\n",
    "        self.y_train = torch.from_numpy(y).to(self.device)\n",
    "        \n",
    "        return self\n",
    "    \n",
    "    def predict(self, X):\n",
    "        X = check_array(X)\n",
    "        X = torch.from_numpy(X).to(self.device)\n",
    "        \n",
    "        # n_eval by n_train kernel matrix.\n",
    "        kernels = torch.exp(-0.5 * pdist(X, self.X_train) ** 2 / self.h ** 2)\n",
    "        \n",
    "        # Element-wise division\n",
    "        return (torch.matmul(kernels, self.y_train) / kernels.sum(axis=1)).to(\"cpu\")"
   ]
  },
  {
   "cell_type": "code",
   "execution_count": 74,
   "metadata": {},
   "outputs": [
    {
     "name": "stdout",
     "output_type": "stream",
     "text": [
      "There are 4 GPU(s) available.\n",
      "We will use the GPU: NVIDIA TITAN Xp\n",
      "R^2:  0.7880181382483237\n",
      "Time: 0.0287 seconds.\n"
     ]
    }
   ],
   "source": [
    "# DEMO: Run in Colab environment.\n",
    "try:\n",
    "    start = time.time()\n",
    "    gpu_model = GPUNadarayaWatsonRegressor(bandwidth=0.5).fit(X_train, y_train)\n",
    "    y_pred = gpu_model.predict(X_test)\n",
    "    print(\"R^2: \", r2_score(y_test, y_pred))\n",
    "    end = time.time()\n",
    "    print(\"Time: %0.4f seconds.\" % (end - start))\n",
    "except KeyboardInterrupt:\n",
    "    print(\"Too slow! :'(\")"
   ]
  },
  {
   "cell_type": "markdown",
   "metadata": {},
   "source": [
    "## 4. Application 2: Embarassingly Parallel Loops\n",
    "\n",
    "**Definition**\n",
    "\n",
    "- In the previous section we were using a combination of linear algebra representations and built-in functions to benefit from parallelization. This method only works for inherently mathematical objects, which is also the reason we got a speed up from the GPU.\n",
    "- When we would like to parallelize more complicated programming logic, we have to use explicit parallelization. This means we describe explicitly a \"batch\" operation which should be split among various threads.\n",
    "- A special (but very common) case of this situation is **embarrassingly parallel loops**. This occurs when there is a `for` loop for which the result of computation in each iteration has no relationship to the result of computation in other iterations. \n",
    "- In these cases, the code essentially \"looks\" like a `for` loop. We just have to instruct the machine to split this load over a certain number of cores.\n",
    "- One thing to note that explicit parallelism often has an overhead cost, so sometimes for small scale problems it can even be slower than just iterating sequentially. Doing this correctly requires some knowledge of the hardware system its running on.\n",
    "\n",
    "**Exercise 4.1:** Please name some iterated computations in machine learning settings that are and are not embarrassingly parallelizable. \n",
    "\n",
    "**Exercise 4.2:** Based on their description, are embarrassingly parallel workloads better distributed over CPU cores or GPU cores? Why?"
   ]
  },
  {
   "cell_type": "markdown",
   "metadata": {},
   "source": [
    " **Exercise 4.1**\n",
    "\n",
    "*Embarrassingly parallelizable computations:*\n",
    "\n",
    "* **Inference on independent samples**: Making predictions on multiple test inputs where each input can be evaluated separately.\n",
    "* **Hyperparameter tuning** (e.g., grid search or random search): Each model configuration can be trained independently.\n",
    "* **Cross-validation folds**: Training models on different folds does not depend on the others.\n",
    "* **Data augmentation (offline)**: Applying random transformations to different images or sequences independently.\n",
    "\n",
    "*Not embarrassingly parallelizable computations:*\n",
    "\n",
    "* **Gradient descent with shared parameters**: Each iteration depends on the model state updated in previous steps.\n",
    "* **Sequential RNN training**: Later steps depend on hidden states from earlier ones.\n",
    "* **Backpropagation through time (BPTT)** in recurrent models: Requires passing gradients backward through dependent steps.\n",
    "* **Batch normalization during training**: Requires computing statistics (mean/variance) over the entire batch, introducing dependencies.\n",
    "\n",
    "**Exercise 4.2**\n",
    "\n",
    "*Embarrassingly parallel workloads are often better distributed over GPU cores**—**but it depends on the nature of the task*.\n",
    "\n",
    "* **GPUs** are ideal when the computation per task is numeric-heavy, uniform, and can be written in a vectorized or SIMD fashion. They offer massive throughput for simple operations on large datasets (e.g., image processing, vector math, matrix ops).\n",
    "* **CPUs** are often better when each task involves complex logic, branching, or irregular memory access, which GPUs handle less efficiently.\n"
   ]
  },
  {
   "cell_type": "markdown",
   "metadata": {},
   "source": [
    "When it comes to implementation, typical options in Python are `joblib` and `multiprocessing` for parallel CPU processing and PyTorch with CUDA for GPU-based inference and augmentation. In R, the `apply` family is a common option. "
   ]
  },
  {
   "cell_type": "code",
   "execution_count": 75,
   "metadata": {},
   "outputs": [],
   "source": [
    "import numpy as np\n",
    "from sklearn.datasets import fetch_openml\n",
    "from sklearn.model_selection import train_test_split\n",
    "from sklearn.linear_model import LogisticRegression\n",
    "from joblib import Parallel, delayed\n",
    "import time"
   ]
  },
  {
   "cell_type": "markdown",
   "metadata": {},
   "source": [
    "### 4.1 Inference on independent samples"
   ]
  },
  {
   "cell_type": "markdown",
   "metadata": {},
   "source": [
    "For CPU parallelism (e.g., with scikit-learn):"
   ]
  },
  {
   "cell_type": "code",
   "execution_count": null,
   "metadata": {},
   "outputs": [],
   "source": [
    "# Load MNIST (~70,000 samples, 784 features)\n",
    "mnist = fetch_openml('mnist_784', version=1, as_frame=False)\n",
    "X, y = mnist.data, mnist.target.astype(int)\n",
    "\n",
    "# Reduce size for faster training, but keep test large for benchmarking\n",
    "X_train, X_test, y_train, y_test = train_test_split(X[:20000], y[:20000], test_size=0.5, random_state=42)\n",
    "print(X_train.shape, X_test.shape)\n",
    "\n",
    "# Train a logistic regression model\n",
    "model = LogisticRegression(max_iter=1000, solver='lbfgs', n_jobs=-1)\n",
    "model.fit(X_train, y_train)"
   ]
  },
  {
   "cell_type": "code",
   "execution_count": 78,
   "metadata": {},
   "outputs": [
    {
     "name": "stdout",
     "output_type": "stream",
     "text": [
      "Serial inference time: 1.1348 seconds\n",
      "CPU Parallel inference time: 0.6426 seconds\n"
     ]
    }
   ],
   "source": [
    "start_serial = time.time()\n",
    "\n",
    "y_pred_serial = [model.predict(x.reshape(1, -1))[0] for x in X_test]\n",
    "\n",
    "end_serial = time.time()\n",
    "print(f\"Serial inference time: {end_serial - start_serial:.4f} seconds\")\n",
    "\n",
    "def predict_one(x):\n",
    "    return model.predict(x.reshape(1, -1))[0]\n",
    "\n",
    "start_parallel = time.time()\n",
    "\n",
    "y_pred_parallel = Parallel(n_jobs=-1)(delayed(predict_one)(x) for x in X_test)\n",
    "\n",
    "end_parallel = time.time()\n",
    "print(f\"CPU Parallel inference time: {end_parallel - start_parallel:.4f} seconds\")\n"
   ]
  },
  {
   "cell_type": "markdown",
   "metadata": {},
   "source": [
    "If using a GPU-compatible model (e.g., PyTorch), batch inference uses GPU cores naturally:"
   ]
  },
  {
   "cell_type": "code",
   "execution_count": 79,
   "metadata": {},
   "outputs": [],
   "source": [
    "import torch\n",
    "import torch.nn as nn\n",
    "from torchvision import datasets, transforms\n",
    "from torch.utils.data import DataLoader\n",
    "import time"
   ]
  },
  {
   "cell_type": "code",
   "execution_count": 81,
   "metadata": {},
   "outputs": [
    {
     "name": "stdout",
     "output_type": "stream",
     "text": [
      "torch.Size([10000, 28, 28])\n",
      "There are 4 GPU(s) available.\n",
      "We will use the GPU: NVIDIA TITAN Xp\n",
      "GPU inference time: 1.1141 seconds\n"
     ]
    }
   ],
   "source": [
    "# Load MNIST and move to GPU\n",
    "transform = transforms.ToTensor()\n",
    "test_dataset = datasets.MNIST(root=\"./data\", train=False, transform=transform, download=True)\n",
    "print(test_dataset.data.shape)\n",
    "test_loader = DataLoader(test_dataset, batch_size=1024, shuffle=False)\n",
    "\n",
    "# Simple model\n",
    "class SimpleNN(nn.Module):\n",
    "    def __init__(self):\n",
    "        super().__init__()\n",
    "        self.flatten = nn.Flatten()\n",
    "        self.fc = nn.Linear(28*28, 10)\n",
    "\n",
    "    def forward(self, x):\n",
    "        x = self.flatten(x)\n",
    "        return self.fc(x)\n",
    "\n",
    "# Initialize and move model to GPU\n",
    "device = set_device()\n",
    "model = SimpleNN().to(device)\n",
    "\n",
    "# Dummy training step (skipped here) – just use random weights\n",
    "model.eval()\n",
    "\n",
    "# Inference on GPU\n",
    "start_gpu = time.time()\n",
    "all_preds = []\n",
    "\n",
    "with torch.no_grad():\n",
    "    for images, _ in test_loader:\n",
    "        images = images.to(device)\n",
    "        outputs = model(images)\n",
    "        preds = torch.argmax(outputs, dim=1)\n",
    "        all_preds.append(preds.cpu())\n",
    "\n",
    "end_gpu = time.time()\n",
    "print(f\"GPU inference time: {end_gpu - start_gpu:.4f} seconds\")\n"
   ]
  },
  {
   "cell_type": "markdown",
   "metadata": {},
   "source": [
    "### 4.2 Hyperparameter tuning\n",
    "\n",
    "We use `joblib` to search for the best bandwidth for the Nadaraya-Watson estimator. As before, use `htop` to ensure that your code is working properly. "
   ]
  },
  {
   "cell_type": "code",
   "execution_count": 82,
   "metadata": {},
   "outputs": [],
   "source": [
    "bandwidths = np.logspace(-1, 3, 30)\n",
    "n = 10000\n",
    "d = 10\n",
    "\n",
    "X_train, y_train, X_test, y_test = generate_data(n, d)"
   ]
  },
  {
   "cell_type": "code",
   "execution_count": 29,
   "metadata": {},
   "outputs": [
    {
     "name": "stdout",
     "output_type": "stream",
     "text": [
      "Sequential hyperparameter search takes 8.27 seconds.\n",
      "Parallelized hyperparameter search takes 2.44 seconds.\n"
     ]
    }
   ],
   "source": [
    "is_parallel = True\n",
    "\n",
    "# Define function that performs each iteration.\n",
    "def worker(bandwidth):\n",
    "    model = VectorizedNadarayaWatsonRegressor(bandwidth=bandwidth).fit(X_train, y_train)\n",
    "    return r2_score(y_test, model.predict(X_test))\n",
    "\n",
    "def search(is_parallel):\n",
    "    try:\n",
    "        if is_parallel:\n",
    "            # Use n_jobs to determine how many cores will be used. Negative values imply \"all but\".\n",
    "            r2 = Parallel(n_jobs=-2)(delayed(worker)(bandwidth) for bandwidth in bandwidths)\n",
    "        else:\n",
    "            r2 = []\n",
    "            for bandwidth in bandwidths:\n",
    "                r2.append(worker(bandwidth))\n",
    "    except KeyboardInterrupt:\n",
    "        print(\"Too slow! :'('\")\n",
    "\n",
    "    return r2\n",
    "    \n",
    "start = time.time()\n",
    "r2 = search(False)\n",
    "print(f\"Sequential hyperparameter search takes {time.time() - start:.2f} seconds.\")\n",
    "\n",
    "start = time.time()\n",
    "r2 = search(True)\n",
    "print(f\"Parallelized hyperparameter search takes {time.time() - start:.2f} seconds.\")"
   ]
  },
  {
   "cell_type": "code",
   "execution_count": 31,
   "metadata": {},
   "outputs": [
    {
     "data": {
      "image/png": "[encoded data removed]",
      "text/plain": [
       "<Figure size 640x480 with 1 Axes>"
      ]
     },
     "metadata": {},
     "output_type": "display_data"
    }
   ],
   "source": [
    "import matplotlib.pyplot as plt\n",
    "\n",
    "plt.plot(bandwidths, r2, linewidth=3, color=\"red\")\n",
    "plt.xscale('log')\n",
    "plt.xlabel(\"Bandwidth\")\n",
    "plt.ylabel(r\"$R^2$ Score\")\n",
    "plt.title(\"Nadaraya-Watson Performance vs. Bandwidth\")\n",
    "plt.show()"
   ]
  },
  {
   "cell_type": "markdown",
   "metadata": {},
   "source": [
    "### 4.3 Cross-validation folds"
   ]
  },
  {
   "cell_type": "code",
   "execution_count": 34,
   "metadata": {},
   "outputs": [
    {
     "name": "stdout",
     "output_type": "stream",
     "text": [
      "Loading MNIST...\n",
      "\n",
      "Running serial cross-validation...\n",
      "Serial CV Accuracy: 0.8660\n",
      "Serial Time: 46.67 seconds\n",
      "\n",
      "Running parallel cross-validation...\n",
      "Parallel CV Accuracy: 0.8660\n",
      "Parallel Time: 1.80 seconds\n"
     ]
    }
   ],
   "source": [
    "from sklearn.model_selection import KFold\n",
    "from sklearn.linear_model import Ridge\n",
    "from sklearn.metrics import accuracy_score\n",
    "\n",
    "# ------------------------\n",
    "# Load and prepare dataset\n",
    "# ------------------------\n",
    "print(\"Loading MNIST...\")\n",
    "mnist = fetch_openml('mnist_784', version=1, as_frame=False)\n",
    "X, y = mnist.data[:2000], mnist.target[:2000].astype(int)  # Subset for speed\n",
    "\n",
    "kf = KFold(n_splits=5, shuffle=True, random_state=42)\n",
    "\n",
    "# ------------------------\n",
    "# Serial Cross-Validation\n",
    "# ------------------------\n",
    "print(\"\\nRunning serial cross-validation...\")\n",
    "start_serial = time.time()\n",
    "serial_accuracies = []\n",
    "\n",
    "for train_idx, val_idx in kf.split(X):\n",
    "    X_train, X_val = X[train_idx], X[val_idx]\n",
    "    y_train, y_val = y[train_idx], y[val_idx]\n",
    "\n",
    "    model = LogisticRegression(max_iter=1000, solver='lbfgs')\n",
    "    model.fit(X_train, y_train)\n",
    "    y_pred = model.predict(X_val)\n",
    "    acc = accuracy_score(y_val, y_pred)\n",
    "    serial_accuracies.append(acc)\n",
    "\n",
    "end_serial = time.time()\n",
    "print(f\"Serial CV Accuracy: {np.mean(serial_accuracies):.4f}\")\n",
    "print(f\"Serial Time: {end_serial - start_serial:.2f} seconds\")\n",
    "\n",
    "# ------------------------\n",
    "# Parallel Cross-Validation\n",
    "# ------------------------\n",
    "print(\"\\nRunning parallel cross-validation...\")\n",
    "\n",
    "def worker(train_idx, val_idx):\n",
    "    X_train, X_val = X[train_idx], X[val_idx]\n",
    "    y_train, y_val = y[train_idx], y[val_idx]\n",
    "\n",
    "    model = LogisticRegression(max_iter=1000, solver='lbfgs')\n",
    "    model.fit(X_train, y_train)\n",
    "    y_pred = model.predict(X_val)\n",
    "    return accuracy_score(y_val, y_pred)\n",
    "\n",
    "start_parallel = time.time()\n",
    "\n",
    "parallel_accuracies = Parallel(n_jobs=-1)(\n",
    "    delayed(worker)(train_idx, val_idx) for train_idx, val_idx in kf.split(X)\n",
    ")\n",
    "\n",
    "end_parallel = time.time()\n",
    "print(f\"Parallel CV Accuracy: {np.mean(parallel_accuracies):.4f}\")\n",
    "print(f\"Parallel Time: {end_parallel - start_parallel:.2f} seconds\")"
   ]
  },
  {
   "cell_type": "markdown",
   "metadata": {},
   "source": [
    "## 5. Modern multi-GPU Parallelism\n",
    "\n",
    "[*Source: Huggingface*](https://huggingface.co/docs/transformers/main/en/perf_train_gpu_many)\n",
    "\n",
    "Multi-GPU setups are effective for accelerating training and fitting large models in memory that otherwise wouldn’t fit on a single GPU. It relies on parallelizing the workload across GPUs. There are several types of parallelism such as data parallelism, tensor parallelism, pipeline parallelism, and model parallelism. Each type of parallelism splits the workload differently, whether it’s the data or the model.\n",
    "\n",
    "#### 1. Data parallelism\n",
    "\n",
    "Data parallelism evenly distributes data across multiple GPUs. Each GPU holds a copy of the model and concurrently processes their portion of the data. At the end, the results from each GPU are synchronized and combined. Data parallelism significantly reduces training time by processing data in parallel, and it is scalable to the number of GPUs available. However, synchronizing results from each GPU can add overhead.\n",
    "\n",
    "There are two types of data parallelism, DataParallel (DP) and DistributedDataParallel (DDP).\n",
    "\n",
    "**DataParallel**: DataParallel supports distributed training on a single machine with multiple GPUs.\n",
    "\n",
    "- The default GPU, GPU 0, reads a batch of data and sends a mini batch of it to the other GPUs.\n",
    "- An up-to-date model is replicated from GPU 0 to the other GPUs.\n",
    "- A forward pass is performed on each GPU and their outputs are sent to GPU 0 to compute the loss.\n",
    "- The loss is distributed from GPU 0 to the other GPUs for the backward pass.\n",
    "- The gradients from each GPU are sent back to GPU 0 and averaged.\n",
    "\n",
    "**DistributedDataParallel:** DistributedDataParallel supports distributed training across multiple machines with multiple GPUs.\n",
    "\n",
    "- The main process replicates the model from the default GPU, GPU 0, to each GPU.\n",
    "- Each GPU directly processes a mini batch of data.\n",
    "- The local gradients are averaged across all GPUs during the backward pass.\n",
    "- DDP is recommended because it reduces communication overhead between GPUs, efficiently utilizes each GPU, and scales to more than one machine.\n",
    "\n",
    "![DDP](img/ddp.png)\n",
    "\n",
    "\n",
    "\n",
    "#### 2. Model parallelism\n",
    "Model parallelism distributes a model across multiple GPUs. There are several ways to split a model, but the typical method distributes the model layers across GPUs. On the forward pass, the first GPU processes a batch of data and passes it to the next group of layers on the next GPU. For the backward pass, the data is sent backward from the final layer to the first layer.\n",
    "\n",
    "Model parallelism is a useful strategy for training models that are too large to fit into the memory of a single GPU. However, GPU utilization is unbalanced because only one GPU is active at a time. Passing results between GPUs also adds communication overhead and it can be a bottleneck.\n"
   ]
  },
  {
   "cell_type": "markdown",
   "metadata": {},
   "source": [
    "\n",
    "#### 3. Pipeline parallelism\n",
    "Pipeline parallelism is conceptually very similar to model parallelism, but it’s more efficient because it reduces the amount of idle GPU time. Instead of waiting for each GPU to finish processing a batch of data, pipeline parallelism creates micro-batches of data. As soon as one micro-batch is finished, it is passed to the next GPU. This way, each GPU can concurrently process part of the data without waiting for the other GPU to completely finish processing a mini batch of data.\n",
    "\n",
    "Pipeline parallelism shares the same advantages as model parallelism, but it optimizes GPU utilization and reduces idle time. But pipeline parallelism can be more complex because models may need to be rewritten as a sequence of nn.Sequential modules and it also isn’t possible to completely reduce idle time because the last forward pass must also wait for the backward pass to finish.\n",
    "\n",
    "#### 4. Tensor parallelism\n",
    "Tensor parallelism distributes large tensor computations across multiple GPUs. The tensors are sliced horizontally or vertically and each slice is processed by a separate GPU. Each GPU performs its calculations on its tensor slice and the results are synchronized at the end to reconstruct the final result.\n",
    "\n",
    "Tensor parallelism is effective for training large models that don’t fit into the memory of a single GPU. It is also faster and more efficient because each GPU can process its tensor slice in parallel, and it can be combined with other parallelism methods. Like other parallelism methods though, tensor parallelism adds communication overhead between GPUs.\n",
    "\n",
    "#### 5. Hybrid parallelism\n",
    "Parallelism methods can be combined to achieve even greater memory savings and more efficiently train models with billions of parameters.\n",
    "\n",
    "#### 6. Data parallelism and pipeline parallelism\n",
    "Data and pipeline parallelism distributes the data across GPUs and divides each mini batch of data into micro-batches to achieve pipeline parallelism.\n",
    "Each data parallel rank treats the process as if there were only one GPU instead of two, but GPUs 0 and 1 can offload micro-batches of data to GPUs 2 and 3 and reduce idle time.\n",
    "This approach optimizes parallel data processing by reducing idle GPU utilization."
   ]
  },
  {
   "cell_type": "markdown",
   "metadata": {},
   "source": [
    "## Putting it all together: Sentiment Analysis for IMDb reviews\n",
    "\n",
    "#### Step 1: Text Vectorization – From Tokens to Tensors\n",
    "\n",
    "Text must be converted into numerical representations for ML models. This process involves:\n",
    "\n",
    "* **Tokenization:** breaking text into units (e.g., words, subwords).\n",
    "* **Embedding:** mapping tokens to vectors.\n",
    "\n",
    "Given a sentence:\n",
    "`\"The cat sat on the mat\"`\n",
    "Tokenize → `[\"The\", \"cat\", \"sat\", \"on\", \"the\", \"mat\"]`\n",
    "\n",
    "Assign integer IDs:\n",
    "\n",
    "$$\n",
    "\\text{Tokens} \\rightarrow \\{12, 89, 44, 32, 12, 78\\}\n",
    "$$\n"
   ]
  },
  {
   "cell_type": "code",
   "execution_count": 39,
   "metadata": {},
   "outputs": [
    {
     "data": {
      "application/vnd.jupyter.widget-view+json": {
       "model_id": "7c44eacc717a4f2c93924b4b6ee47045",
       "version_major": 2,
       "version_minor": 0
      },
      "text/plain": [
       "Map:   0%|          | 0/25000 [00:00<?, ? examples/s]"
      ]
     },
     "metadata": {},
     "output_type": "display_data"
    },
    {
     "data": {
      "application/vnd.jupyter.widget-view+json": {
       "model_id": "b5fcaab808ae41fd8e3393e44470b2c9",
       "version_major": 2,
       "version_minor": 0
      },
      "text/plain": [
       "Map:   0%|          | 0/25000 [00:00<?, ? examples/s]"
      ]
     },
     "metadata": {},
     "output_type": "display_data"
    },
    {
     "data": {
      "application/vnd.jupyter.widget-view+json": {
       "model_id": "4bdf3d83ae8046cd819bcb76926354b9",
       "version_major": 2,
       "version_minor": 0
      },
      "text/plain": [
       "Map:   0%|          | 0/50000 [00:00<?, ? examples/s]"
      ]
     },
     "metadata": {},
     "output_type": "display_data"
    },
    {
     "data": {
      "application/vnd.jupyter.widget-view+json": {
       "model_id": "9eb5a9fd56464bf087966fe884ea94c4",
       "version_major": 2,
       "version_minor": 0
      },
      "text/plain": [
       "model.safetensors:   0%|          | 0.00/268M [00:00<?, ?B/s]"
      ]
     },
     "metadata": {},
     "output_type": "display_data"
    },
    {
     "name": "stderr",
     "output_type": "stream",
     "text": [
      "Some weights of DistilBertForSequenceClassification were not initialized from the model checkpoint at distilbert-base-uncased and are newly initialized: ['classifier.bias', 'classifier.weight', 'pre_classifier.bias', 'pre_classifier.weight']\n",
      "You should probably TRAIN this model on a down-stream task to be able to use it for predictions and inference.\n",
      "/home/medhaaga/miniconda3/envs/zsp/lib/python3.10/site-packages/transformers/training_args.py:1575: FutureWarning: `evaluation_strategy` is deprecated and will be removed in version 4.46 of 🤗 Transformers. Use `eval_strategy` instead\n",
      "  warnings.warn(\n",
      "/home/medhaaga/miniconda3/envs/zsp/lib/python3.10/site-packages/torch/nn/parallel/_functions.py:70: UserWarning: Was asked to gather along dimension 0, but all input tensors were scalars; will instead unsqueeze and return a vector.\n",
      "  warnings.warn(\n"
     ]
    },
    {
     "data": {
      "text/html": [
       "\n",
       "    <div>\n",
       "      \n",
       "      <progress value='47' max='47' style='width:300px; height:20px; vertical-align: middle;'></progress>\n",
       "      [47/47 00:32, Epoch 1/1]\n",
       "    </div>\n",
       "    <table border=\"1\" class=\"dataframe\">\n",
       "  <thead>\n",
       " <tr style=\"text-align: left;\">\n",
       "      <th>Epoch</th>\n",
       "      <th>Training Loss</th>\n",
       "      <th>Validation Loss</th>\n",
       "    </tr>\n",
       "  </thead>\n",
       "  <tbody>\n",
       "    <tr>\n",
       "      <td>1</td>\n",
       "      <td>0.002200</td>\n",
       "      <td>0.001594</td>\n",
       "    </tr>\n",
       "  </tbody>\n",
       "</table><p>"
      ],
      "text/plain": [
       "<IPython.core.display.HTML object>"
      ]
     },
     "metadata": {},
     "output_type": "display_data"
    },
    {
     "name": "stderr",
     "output_type": "stream",
     "text": [
      "/home/medhaaga/miniconda3/envs/zsp/lib/python3.10/site-packages/torch/nn/parallel/_functions.py:70: UserWarning: Was asked to gather along dimension 0, but all input tensors were scalars; will instead unsqueeze and return a vector.\n",
      "  warnings.warn(\n"
     ]
    },
    {
     "data": {
      "text/plain": [
       "TrainOutput(global_step=47, training_loss=0.05462673910834054, metrics={'train_runtime': 34.2603, 'train_samples_per_second': 87.565, 'train_steps_per_second': 1.372, 'total_flos': 397402195968000.0, 'train_loss': 0.05462673910834054, 'epoch': 1.0})"
      ]
     },
     "execution_count": 39,
     "metadata": {},
     "output_type": "execute_result"
    }
   ],
   "source": [
    "from transformers import AutoModelForSequenceClassification, Trainer, TrainingArguments, AutoTokenizer\n",
    "from datasets import load_dataset\n",
    "import torch\n",
    "\n",
    "# Load IMDb (binary classification)\n",
    "imdb_dataset = load_dataset(\"imdb\")\n",
    "train_data = imdb_dataset[\"train\"].shuffle(seed=42).select(range(4000))\n",
    "tokenizer = AutoTokenizer.from_pretrained(\"distilbert-base-uncased\")\n",
    "\n",
    "def tokenize(batch):\n",
    "    return tokenizer(batch[\"text\"], padding=\"max_length\", truncation=True)\n",
    "\n",
    "encoded = imdb_dataset.map(tokenize, batched=True)\n",
    "encoded.set_format(\"torch\", columns=[\"input_ids\", \"attention_mask\", \"label\"])\n",
    "\n"
   ]
  },
  {
   "cell_type": "markdown",
   "metadata": {},
   "source": [
    "\n",
    "### Embeddings + Transformer model\n",
    "\n",
    "#### a. **Input Representation**\n",
    "\n",
    "Each token $t_i$ in a sentence is converted to a vector:\n",
    "\n",
    "$$\n",
    "\\mathbf{x}_i = E(t_i, i) = \\text{TokenEmbedding}(t_i) + \\text{PositionEmbedding}(i)\n",
    "$$\n",
    "\n",
    "Where:\n",
    "\n",
    "* $t_i$: the $i$-th token (word/piece)\n",
    "* $\\mathbf{x}_i \\in \\mathbb{R}^d$: input embedding vector\n",
    "* $d$: embedding dimension, here 768\n",
    "\n",
    "\n",
    "#### b. **Self-Attention**\n",
    "\n",
    "Each input vector $\\mathbf{x}_i$ is passed through multiple Transformer layers. At each layer, self-attention computes:\n",
    "\n",
    "$$\n",
    "\\text{Attention}(\\mathbf{Q}, \\mathbf{K}, \\mathbf{V}) = \\text{softmax}\\left(\\frac{\\mathbf{Q}\\mathbf{K}^\\top}{\\sqrt{d_k}}\\right)\\mathbf{V}\n",
    "$$\n",
    "\n",
    "Where for each token:\n",
    "\n",
    "* $\\mathbf{Q}_i = \\mathbf{W}^Q \\mathbf{x}_i$\n",
    "* $\\mathbf{K}_i = \\mathbf{W}^K \\mathbf{x}_i$\n",
    "* $\\mathbf{V}_i = \\mathbf{W}^V \\mathbf{x}_i$\n",
    "\n",
    "And $\\mathbf{W}^Q, \\mathbf{W}^K, \\mathbf{W}^V$ are learned matrices.\n",
    "\n",
    "The result is a context-aware embedding $\\mathbf{h}_i^{(L)} \\in \\mathbb{R}^d$ after $L$ layers.\n",
    "\n",
    "\n",
    "#### c. **Transformer Layer**:\n",
    "\n",
    "Multiple self-attention heads + feedforward layers:\n",
    "\n",
    "$$\n",
    "\\text{Output}_i = \\text{LayerNorm}(x_i + \\text{FFN}(\\text{SelfAttention}(x)))\n",
    "$$\n",
    "\n",
    "Stacking many such layers, BERT produces final embeddings $\\mathbf{h}_i^{(L)}$ for each word:\n",
    "\n",
    "$$\n",
    "\\mathbf{h}_1^{(L)}, \\dots, \\mathbf{h}_n^{(L)}\n",
    "$$\n",
    "\n"
   ]
  },
  {
   "cell_type": "code",
   "execution_count": null,
   "metadata": {},
   "outputs": [],
   "source": [
    "# Load pre-trained transformer\n",
    "model = AutoModelForSequenceClassification.from_pretrained(\"distilbert-base-uncased\")"
   ]
  },
  {
   "cell_type": "code",
   "execution_count": null,
   "metadata": {},
   "outputs": [],
   "source": [
    "\n",
    "# Define trainer\n",
    "training_args = TrainingArguments(\n",
    "    per_device_train_batch_size=16,\n",
    "    per_device_eval_batch_size=16,\n",
    "    num_train_epochs=1,\n",
    "    logging_steps=10,\n",
    "    output_dir=\"./results\",\n",
    "    evaluation_strategy=\"epoch\",\n",
    "    report_to=\"none\",\n",
    ")\n",
    "\n",
    "trainer = Trainer(\n",
    "    model=model,\n",
    "    args=training_args,\n",
    "    train_dataset=encoded[\"train\"].select(range(3000)),\n",
    "    eval_dataset=encoded[\"train\"].select(range(3000, 4000)),\n",
    ")\n",
    "\n",
    "trainer.train()"
   ]
  },
  {
   "cell_type": "markdown",
   "metadata": {},
   "source": [
    "| Stage            | Parallelized Over | Device |\n",
    "| ---------------- | ----------------- | ------ |\n",
    "| Tokenization     | Text samples      | CPU    |\n",
    "| Embedding lookup | Tokens            | GPU    |\n",
    "| Attention scores | Tokens, heads     | GPU    |\n",
    "| Output layers    | Tokens            | GPU    |\n",
    "| Backpropagation  | Parameters        | GPU    |\n"
   ]
  },
  {
   "cell_type": "code",
   "execution_count": null,
   "metadata": {},
   "outputs": [],
   "source": [
    "def predict_sentiment(texts):\n",
    "    model.eval()\n",
    "    with torch.no_grad():\n",
    "        inputs = tokenizer(texts, padding=True, truncation=True, return_tensors=\"pt\")\n",
    "        outputs = model(**inputs)\n",
    "        probs = torch.nn.functional.softmax(outputs.logits, dim=1)\n",
    "        preds = torch.argmax(probs, dim=1)\n",
    "        return preds, probs\n",
    "\n",
    "# Try inference\n",
    "sample_texts = [\n",
    "    \"This movie was absolutely wonderful and touching.\",\n",
    "    \"I hated every second of this film. A total waste of time.\"\n",
    "]\n",
    "\n",
    "preds, probs = predict_sentiment(sample_texts)\n",
    "\n",
    "for text, p, pr in zip(sample_texts, preds, probs):\n",
    "    sentiment = \"Positive\" if p == 1 else \"Negative\"\n",
    "    print(f\"\\nText: {text}\\nPrediction: {sentiment} (confidence: {pr[p]:.4f})\")\n"
   ]
  },
  {
   "cell_type": "markdown",
   "metadata": {},
   "source": []
  }
 ],
 "metadata": {
  "kernelspec": {
   "display_name": "Python 3.10.16 ('zsp')",
   "language": "python",
   "name": "python3"
  },
  "language_info": {
   "codemirror_mode": {
    "name": "ipython",
    "version": 3
   },
   "file_extension": ".py",
   "mimetype": "text/x-python",
   "name": "python",
   "nbconvert_exporter": "python",
   "pygments_lexer": "ipython3",
   "version": "3.10.16"
  },
  "orig_nbformat": 4,
  "vscode": {
   "interpreter": {
    "hash": "ee572519086218b94d40792eb4df8d070dce6b9c8f3771ec28722a77608dce3f"
   }
  }
 },
 "nbformat": 4,
 "nbformat_minor": 2
}

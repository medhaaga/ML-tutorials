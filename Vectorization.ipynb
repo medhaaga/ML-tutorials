{
  "nbformat": 4,
  "nbformat_minor": 0,
  "metadata": {
    "colab": {
      "provenance": [],
      "gpuType": "T4"
    },
    "kernelspec": {
      "name": "python3",
      "display_name": "Python 3"
    },
    "language_info": {
      "name": "python"
    },
    "accelerator": "GPU",
    "widgets": {
      "application/vnd.jupyter.widget-state+json": {
        "0ba2ee6fb55e4e788038e2e6804d82c2": {
          "model_module": "@jupyter-widgets/controls",
          "model_name": "HBoxModel",
          "model_module_version": "1.5.0",
          "state": {
            "_dom_classes": [],
            "_model_module": "@jupyter-widgets/controls",
            "_model_module_version": "1.5.0",
            "_model_name": "HBoxModel",
            "_view_count": null,
            "_view_module": "@jupyter-widgets/controls",
            "_view_module_version": "1.5.0",
            "_view_name": "HBoxView",
            "box_style": "",
            "children": [
              "IPY_MODEL_885d054aeb014905ae894f5324f58dbb",
              "IPY_MODEL_3c09775d83844781b9b7be4a7a2d1140",
              "IPY_MODEL_bbc766f191334e909a9e9420c978c525"
            ],
            "layout": "IPY_MODEL_48c07f9bd8d54b0aaf008a9b4da51d81"
          }
        },
        "885d054aeb014905ae894f5324f58dbb": {
          "model_module": "@jupyter-widgets/controls",
          "model_name": "HTMLModel",
          "model_module_version": "1.5.0",
          "state": {
            "_dom_classes": [],
            "_model_module": "@jupyter-widgets/controls",
            "_model_module_version": "1.5.0",
            "_model_name": "HTMLModel",
            "_view_count": null,
            "_view_module": "@jupyter-widgets/controls",
            "_view_module_version": "1.5.0",
            "_view_name": "HTMLView",
            "description": "",
            "description_tooltip": null,
            "layout": "IPY_MODEL_ea38adf468c747928f0d9ebe13d42e15",
            "placeholder": "​",
            "style": "IPY_MODEL_fedb107c4d8642589738815c08f5fc96",
            "value": "tokenizer_config.json: 100%"
          }
        },
        "3c09775d83844781b9b7be4a7a2d1140": {
          "model_module": "@jupyter-widgets/controls",
          "model_name": "FloatProgressModel",
          "model_module_version": "1.5.0",
          "state": {
            "_dom_classes": [],
            "_model_module": "@jupyter-widgets/controls",
            "_model_module_version": "1.5.0",
            "_model_name": "FloatProgressModel",
            "_view_count": null,
            "_view_module": "@jupyter-widgets/controls",
            "_view_module_version": "1.5.0",
            "_view_name": "ProgressView",
            "bar_style": "success",
            "description": "",
            "description_tooltip": null,
            "layout": "IPY_MODEL_05248ec1e4aa46ce82b98fb0680d3aee",
            "max": 48,
            "min": 0,
            "orientation": "horizontal",
            "style": "IPY_MODEL_e2ce856bfda1480ba211350f5ae9bf6a",
            "value": 48
          }
        },
        "bbc766f191334e909a9e9420c978c525": {
          "model_module": "@jupyter-widgets/controls",
          "model_name": "HTMLModel",
          "model_module_version": "1.5.0",
          "state": {
            "_dom_classes": [],
            "_model_module": "@jupyter-widgets/controls",
            "_model_module_version": "1.5.0",
            "_model_name": "HTMLModel",
            "_view_count": null,
            "_view_module": "@jupyter-widgets/controls",
            "_view_module_version": "1.5.0",
            "_view_name": "HTMLView",
            "description": "",
            "description_tooltip": null,
            "layout": "IPY_MODEL_95bf19484dda46a28a616a697f39517d",
            "placeholder": "​",
            "style": "IPY_MODEL_a22cd6eb5c0748f0b186f2c1e218005e",
            "value": " 48.0/48.0 [00:00&lt;00:00, 1.61kB/s]"
          }
        },
        "48c07f9bd8d54b0aaf008a9b4da51d81": {
          "model_module": "@jupyter-widgets/base",
          "model_name": "LayoutModel",
          "model_module_version": "1.2.0",
          "state": {
            "_model_module": "@jupyter-widgets/base",
            "_model_module_version": "1.2.0",
            "_model_name": "LayoutModel",
            "_view_count": null,
            "_view_module": "@jupyter-widgets/base",
            "_view_module_version": "1.2.0",
            "_view_name": "LayoutView",
            "align_content": null,
            "align_items": null,
            "align_self": null,
            "border": null,
            "bottom": null,
            "display": null,
            "flex": null,
            "flex_flow": null,
            "grid_area": null,
            "grid_auto_columns": null,
            "grid_auto_flow": null,
            "grid_auto_rows": null,
            "grid_column": null,
            "grid_gap": null,
            "grid_row": null,
            "grid_template_areas": null,
            "grid_template_columns": null,
            "grid_template_rows": null,
            "height": null,
            "justify_content": null,
            "justify_items": null,
            "left": null,
            "margin": null,
            "max_height": null,
            "max_width": null,
            "min_height": null,
            "min_width": null,
            "object_fit": null,
            "object_position": null,
            "order": null,
            "overflow": null,
            "overflow_x": null,
            "overflow_y": null,
            "padding": null,
            "right": null,
            "top": null,
            "visibility": null,
            "width": null
          }
        },
        "ea38adf468c747928f0d9ebe13d42e15": {
          "model_module": "@jupyter-widgets/base",
          "model_name": "LayoutModel",
          "model_module_version": "1.2.0",
          "state": {
            "_model_module": "@jupyter-widgets/base",
            "_model_module_version": "1.2.0",
            "_model_name": "LayoutModel",
            "_view_count": null,
            "_view_module": "@jupyter-widgets/base",
            "_view_module_version": "1.2.0",
            "_view_name": "LayoutView",
            "align_content": null,
            "align_items": null,
            "align_self": null,
            "border": null,
            "bottom": null,
            "display": null,
            "flex": null,
            "flex_flow": null,
            "grid_area": null,
            "grid_auto_columns": null,
            "grid_auto_flow": null,
            "grid_auto_rows": null,
            "grid_column": null,
            "grid_gap": null,
            "grid_row": null,
            "grid_template_areas": null,
            "grid_template_columns": null,
            "grid_template_rows": null,
            "height": null,
            "justify_content": null,
            "justify_items": null,
            "left": null,
            "margin": null,
            "max_height": null,
            "max_width": null,
            "min_height": null,
            "min_width": null,
            "object_fit": null,
            "object_position": null,
            "order": null,
            "overflow": null,
            "overflow_x": null,
            "overflow_y": null,
            "padding": null,
            "right": null,
            "top": null,
            "visibility": null,
            "width": null
          }
        },
        "fedb107c4d8642589738815c08f5fc96": {
          "model_module": "@jupyter-widgets/controls",
          "model_name": "DescriptionStyleModel",
          "model_module_version": "1.5.0",
          "state": {
            "_model_module": "@jupyter-widgets/controls",
            "_model_module_version": "1.5.0",
            "_model_name": "DescriptionStyleModel",
            "_view_count": null,
            "_view_module": "@jupyter-widgets/base",
            "_view_module_version": "1.2.0",
            "_view_name": "StyleView",
            "description_width": ""
          }
        },
        "05248ec1e4aa46ce82b98fb0680d3aee": {
          "model_module": "@jupyter-widgets/base",
          "model_name": "LayoutModel",
          "model_module_version": "1.2.0",
          "state": {
            "_model_module": "@jupyter-widgets/base",
            "_model_module_version": "1.2.0",
            "_model_name": "LayoutModel",
            "_view_count": null,
            "_view_module": "@jupyter-widgets/base",
            "_view_module_version": "1.2.0",
            "_view_name": "LayoutView",
            "align_content": null,
            "align_items": null,
            "align_self": null,
            "border": null,
            "bottom": null,
            "display": null,
            "flex": null,
            "flex_flow": null,
            "grid_area": null,
            "grid_auto_columns": null,
            "grid_auto_flow": null,
            "grid_auto_rows": null,
            "grid_column": null,
            "grid_gap": null,
            "grid_row": null,
            "grid_template_areas": null,
            "grid_template_columns": null,
            "grid_template_rows": null,
            "height": null,
            "justify_content": null,
            "justify_items": null,
            "left": null,
            "margin": null,
            "max_height": null,
            "max_width": null,
            "min_height": null,
            "min_width": null,
            "object_fit": null,
            "object_position": null,
            "order": null,
            "overflow": null,
            "overflow_x": null,
            "overflow_y": null,
            "padding": null,
            "right": null,
            "top": null,
            "visibility": null,
            "width": null
          }
        },
        "e2ce856bfda1480ba211350f5ae9bf6a": {
          "model_module": "@jupyter-widgets/controls",
          "model_name": "ProgressStyleModel",
          "model_module_version": "1.5.0",
          "state": {
            "_model_module": "@jupyter-widgets/controls",
            "_model_module_version": "1.5.0",
            "_model_name": "ProgressStyleModel",
            "_view_count": null,
            "_view_module": "@jupyter-widgets/base",
            "_view_module_version": "1.2.0",
            "_view_name": "StyleView",
            "bar_color": null,
            "description_width": ""
          }
        },
        "95bf19484dda46a28a616a697f39517d": {
          "model_module": "@jupyter-widgets/base",
          "model_name": "LayoutModel",
          "model_module_version": "1.2.0",
          "state": {
            "_model_module": "@jupyter-widgets/base",
            "_model_module_version": "1.2.0",
            "_model_name": "LayoutModel",
            "_view_count": null,
            "_view_module": "@jupyter-widgets/base",
            "_view_module_version": "1.2.0",
            "_view_name": "LayoutView",
            "align_content": null,
            "align_items": null,
            "align_self": null,
            "border": null,
            "bottom": null,
            "display": null,
            "flex": null,
            "flex_flow": null,
            "grid_area": null,
            "grid_auto_columns": null,
            "grid_auto_flow": null,
            "grid_auto_rows": null,
            "grid_column": null,
            "grid_gap": null,
            "grid_row": null,
            "grid_template_areas": null,
            "grid_template_columns": null,
            "grid_template_rows": null,
            "height": null,
            "justify_content": null,
            "justify_items": null,
            "left": null,
            "margin": null,
            "max_height": null,
            "max_width": null,
            "min_height": null,
            "min_width": null,
            "object_fit": null,
            "object_position": null,
            "order": null,
            "overflow": null,
            "overflow_x": null,
            "overflow_y": null,
            "padding": null,
            "right": null,
            "top": null,
            "visibility": null,
            "width": null
          }
        },
        "a22cd6eb5c0748f0b186f2c1e218005e": {
          "model_module": "@jupyter-widgets/controls",
          "model_name": "DescriptionStyleModel",
          "model_module_version": "1.5.0",
          "state": {
            "_model_module": "@jupyter-widgets/controls",
            "_model_module_version": "1.5.0",
            "_model_name": "DescriptionStyleModel",
            "_view_count": null,
            "_view_module": "@jupyter-widgets/base",
            "_view_module_version": "1.2.0",
            "_view_name": "StyleView",
            "description_width": ""
          }
        },
        "a2d5a20c8708442287427aea736fa278": {
          "model_module": "@jupyter-widgets/controls",
          "model_name": "HBoxModel",
          "model_module_version": "1.5.0",
          "state": {
            "_dom_classes": [],
            "_model_module": "@jupyter-widgets/controls",
            "_model_module_version": "1.5.0",
            "_model_name": "HBoxModel",
            "_view_count": null,
            "_view_module": "@jupyter-widgets/controls",
            "_view_module_version": "1.5.0",
            "_view_name": "HBoxView",
            "box_style": "",
            "children": [
              "IPY_MODEL_2bb3ed42700c4a24a5050bc9e15d33f4",
              "IPY_MODEL_12382a9943a74446ad320660363e3d0c",
              "IPY_MODEL_6fd886c21c3d4d40aa7666e1edbe7c9e"
            ],
            "layout": "IPY_MODEL_8c71e2a2d165455fb0cdbddb47c57cde"
          }
        },
        "2bb3ed42700c4a24a5050bc9e15d33f4": {
          "model_module": "@jupyter-widgets/controls",
          "model_name": "HTMLModel",
          "model_module_version": "1.5.0",
          "state": {
            "_dom_classes": [],
            "_model_module": "@jupyter-widgets/controls",
            "_model_module_version": "1.5.0",
            "_model_name": "HTMLModel",
            "_view_count": null,
            "_view_module": "@jupyter-widgets/controls",
            "_view_module_version": "1.5.0",
            "_view_name": "HTMLView",
            "description": "",
            "description_tooltip": null,
            "layout": "IPY_MODEL_f3becad18602444baffe400f6752bf36",
            "placeholder": "​",
            "style": "IPY_MODEL_3436b76a0d9c4f7d98f7dc8d15a82182",
            "value": "config.json: 100%"
          }
        },
        "12382a9943a74446ad320660363e3d0c": {
          "model_module": "@jupyter-widgets/controls",
          "model_name": "FloatProgressModel",
          "model_module_version": "1.5.0",
          "state": {
            "_dom_classes": [],
            "_model_module": "@jupyter-widgets/controls",
            "_model_module_version": "1.5.0",
            "_model_name": "FloatProgressModel",
            "_view_count": null,
            "_view_module": "@jupyter-widgets/controls",
            "_view_module_version": "1.5.0",
            "_view_name": "ProgressView",
            "bar_style": "success",
            "description": "",
            "description_tooltip": null,
            "layout": "IPY_MODEL_366c0fd9d4fe4a48854f41ead79131c8",
            "max": 570,
            "min": 0,
            "orientation": "horizontal",
            "style": "IPY_MODEL_97237ff733e04619a20a34ff84b404ba",
            "value": 570
          }
        },
        "6fd886c21c3d4d40aa7666e1edbe7c9e": {
          "model_module": "@jupyter-widgets/controls",
          "model_name": "HTMLModel",
          "model_module_version": "1.5.0",
          "state": {
            "_dom_classes": [],
            "_model_module": "@jupyter-widgets/controls",
            "_model_module_version": "1.5.0",
            "_model_name": "HTMLModel",
            "_view_count": null,
            "_view_module": "@jupyter-widgets/controls",
            "_view_module_version": "1.5.0",
            "_view_name": "HTMLView",
            "description": "",
            "description_tooltip": null,
            "layout": "IPY_MODEL_0c96b7af15ba482ab3c0ee92c8779281",
            "placeholder": "​",
            "style": "IPY_MODEL_c94c82fee4d84bd69dd6ac06e3fb54a0",
            "value": " 570/570 [00:00&lt;00:00, 19.8kB/s]"
          }
        },
        "8c71e2a2d165455fb0cdbddb47c57cde": {
          "model_module": "@jupyter-widgets/base",
          "model_name": "LayoutModel",
          "model_module_version": "1.2.0",
          "state": {
            "_model_module": "@jupyter-widgets/base",
            "_model_module_version": "1.2.0",
            "_model_name": "LayoutModel",
            "_view_count": null,
            "_view_module": "@jupyter-widgets/base",
            "_view_module_version": "1.2.0",
            "_view_name": "LayoutView",
            "align_content": null,
            "align_items": null,
            "align_self": null,
            "border": null,
            "bottom": null,
            "display": null,
            "flex": null,
            "flex_flow": null,
            "grid_area": null,
            "grid_auto_columns": null,
            "grid_auto_flow": null,
            "grid_auto_rows": null,
            "grid_column": null,
            "grid_gap": null,
            "grid_row": null,
            "grid_template_areas": null,
            "grid_template_columns": null,
            "grid_template_rows": null,
            "height": null,
            "justify_content": null,
            "justify_items": null,
            "left": null,
            "margin": null,
            "max_height": null,
            "max_width": null,
            "min_height": null,
            "min_width": null,
            "object_fit": null,
            "object_position": null,
            "order": null,
            "overflow": null,
            "overflow_x": null,
            "overflow_y": null,
            "padding": null,
            "right": null,
            "top": null,
            "visibility": null,
            "width": null
          }
        },
        "f3becad18602444baffe400f6752bf36": {
          "model_module": "@jupyter-widgets/base",
          "model_name": "LayoutModel",
          "model_module_version": "1.2.0",
          "state": {
            "_model_module": "@jupyter-widgets/base",
            "_model_module_version": "1.2.0",
            "_model_name": "LayoutModel",
            "_view_count": null,
            "_view_module": "@jupyter-widgets/base",
            "_view_module_version": "1.2.0",
            "_view_name": "LayoutView",
            "align_content": null,
            "align_items": null,
            "align_self": null,
            "border": null,
            "bottom": null,
            "display": null,
            "flex": null,
            "flex_flow": null,
            "grid_area": null,
            "grid_auto_columns": null,
            "grid_auto_flow": null,
            "grid_auto_rows": null,
            "grid_column": null,
            "grid_gap": null,
            "grid_row": null,
            "grid_template_areas": null,
            "grid_template_columns": null,
            "grid_template_rows": null,
            "height": null,
            "justify_content": null,
            "justify_items": null,
            "left": null,
            "margin": null,
            "max_height": null,
            "max_width": null,
            "min_height": null,
            "min_width": null,
            "object_fit": null,
            "object_position": null,
            "order": null,
            "overflow": null,
            "overflow_x": null,
            "overflow_y": null,
            "padding": null,
            "right": null,
            "top": null,
            "visibility": null,
            "width": null
          }
        },
        "3436b76a0d9c4f7d98f7dc8d15a82182": {
          "model_module": "@jupyter-widgets/controls",
          "model_name": "DescriptionStyleModel",
          "model_module_version": "1.5.0",
          "state": {
            "_model_module": "@jupyter-widgets/controls",
            "_model_module_version": "1.5.0",
            "_model_name": "DescriptionStyleModel",
            "_view_count": null,
            "_view_module": "@jupyter-widgets/base",
            "_view_module_version": "1.2.0",
            "_view_name": "StyleView",
            "description_width": ""
          }
        },
        "366c0fd9d4fe4a48854f41ead79131c8": {
          "model_module": "@jupyter-widgets/base",
          "model_name": "LayoutModel",
          "model_module_version": "1.2.0",
          "state": {
            "_model_module": "@jupyter-widgets/base",
            "_model_module_version": "1.2.0",
            "_model_name": "LayoutModel",
            "_view_count": null,
            "_view_module": "@jupyter-widgets/base",
            "_view_module_version": "1.2.0",
            "_view_name": "LayoutView",
            "align_content": null,
            "align_items": null,
            "align_self": null,
            "border": null,
            "bottom": null,
            "display": null,
            "flex": null,
            "flex_flow": null,
            "grid_area": null,
            "grid_auto_columns": null,
            "grid_auto_flow": null,
            "grid_auto_rows": null,
            "grid_column": null,
            "grid_gap": null,
            "grid_row": null,
            "grid_template_areas": null,
            "grid_template_columns": null,
            "grid_template_rows": null,
            "height": null,
            "justify_content": null,
            "justify_items": null,
            "left": null,
            "margin": null,
            "max_height": null,
            "max_width": null,
            "min_height": null,
            "min_width": null,
            "object_fit": null,
            "object_position": null,
            "order": null,
            "overflow": null,
            "overflow_x": null,
            "overflow_y": null,
            "padding": null,
            "right": null,
            "top": null,
            "visibility": null,
            "width": null
          }
        },
        "97237ff733e04619a20a34ff84b404ba": {
          "model_module": "@jupyter-widgets/controls",
          "model_name": "ProgressStyleModel",
          "model_module_version": "1.5.0",
          "state": {
            "_model_module": "@jupyter-widgets/controls",
            "_model_module_version": "1.5.0",
            "_model_name": "ProgressStyleModel",
            "_view_count": null,
            "_view_module": "@jupyter-widgets/base",
            "_view_module_version": "1.2.0",
            "_view_name": "StyleView",
            "bar_color": null,
            "description_width": ""
          }
        },
        "0c96b7af15ba482ab3c0ee92c8779281": {
          "model_module": "@jupyter-widgets/base",
          "model_name": "LayoutModel",
          "model_module_version": "1.2.0",
          "state": {
            "_model_module": "@jupyter-widgets/base",
            "_model_module_version": "1.2.0",
            "_model_name": "LayoutModel",
            "_view_count": null,
            "_view_module": "@jupyter-widgets/base",
            "_view_module_version": "1.2.0",
            "_view_name": "LayoutView",
            "align_content": null,
            "align_items": null,
            "align_self": null,
            "border": null,
            "bottom": null,
            "display": null,
            "flex": null,
            "flex_flow": null,
            "grid_area": null,
            "grid_auto_columns": null,
            "grid_auto_flow": null,
            "grid_auto_rows": null,
            "grid_column": null,
            "grid_gap": null,
            "grid_row": null,
            "grid_template_areas": null,
            "grid_template_columns": null,
            "grid_template_rows": null,
            "height": null,
            "justify_content": null,
            "justify_items": null,
            "left": null,
            "margin": null,
            "max_height": null,
            "max_width": null,
            "min_height": null,
            "min_width": null,
            "object_fit": null,
            "object_position": null,
            "order": null,
            "overflow": null,
            "overflow_x": null,
            "overflow_y": null,
            "padding": null,
            "right": null,
            "top": null,
            "visibility": null,
            "width": null
          }
        },
        "c94c82fee4d84bd69dd6ac06e3fb54a0": {
          "model_module": "@jupyter-widgets/controls",
          "model_name": "DescriptionStyleModel",
          "model_module_version": "1.5.0",
          "state": {
            "_model_module": "@jupyter-widgets/controls",
            "_model_module_version": "1.5.0",
            "_model_name": "DescriptionStyleModel",
            "_view_count": null,
            "_view_module": "@jupyter-widgets/base",
            "_view_module_version": "1.2.0",
            "_view_name": "StyleView",
            "description_width": ""
          }
        },
        "9d93d24eb4e4485cbb9fa998b80f3cf8": {
          "model_module": "@jupyter-widgets/controls",
          "model_name": "HBoxModel",
          "model_module_version": "1.5.0",
          "state": {
            "_dom_classes": [],
            "_model_module": "@jupyter-widgets/controls",
            "_model_module_version": "1.5.0",
            "_model_name": "HBoxModel",
            "_view_count": null,
            "_view_module": "@jupyter-widgets/controls",
            "_view_module_version": "1.5.0",
            "_view_name": "HBoxView",
            "box_style": "",
            "children": [
              "IPY_MODEL_587873fbc77349ee8aea9b2ceb9836d1",
              "IPY_MODEL_aef61a61968e4a5283902e0fcc8a2569",
              "IPY_MODEL_98535be518024a719e77b0b9c203d3de"
            ],
            "layout": "IPY_MODEL_eb050e9b01a44654a86342ece8028cc6"
          }
        },
        "587873fbc77349ee8aea9b2ceb9836d1": {
          "model_module": "@jupyter-widgets/controls",
          "model_name": "HTMLModel",
          "model_module_version": "1.5.0",
          "state": {
            "_dom_classes": [],
            "_model_module": "@jupyter-widgets/controls",
            "_model_module_version": "1.5.0",
            "_model_name": "HTMLModel",
            "_view_count": null,
            "_view_module": "@jupyter-widgets/controls",
            "_view_module_version": "1.5.0",
            "_view_name": "HTMLView",
            "description": "",
            "description_tooltip": null,
            "layout": "IPY_MODEL_276500c5b2fb48788f0c3c72c5c97a46",
            "placeholder": "​",
            "style": "IPY_MODEL_a28d86b1b3d540a4b991e4ef96f68827",
            "value": "vocab.txt: 100%"
          }
        },
        "aef61a61968e4a5283902e0fcc8a2569": {
          "model_module": "@jupyter-widgets/controls",
          "model_name": "FloatProgressModel",
          "model_module_version": "1.5.0",
          "state": {
            "_dom_classes": [],
            "_model_module": "@jupyter-widgets/controls",
            "_model_module_version": "1.5.0",
            "_model_name": "FloatProgressModel",
            "_view_count": null,
            "_view_module": "@jupyter-widgets/controls",
            "_view_module_version": "1.5.0",
            "_view_name": "ProgressView",
            "bar_style": "success",
            "description": "",
            "description_tooltip": null,
            "layout": "IPY_MODEL_9a0093f31ac2495daf1626179165a29d",
            "max": 231508,
            "min": 0,
            "orientation": "horizontal",
            "style": "IPY_MODEL_f1aaf2c5fc8f4aee8e09e17d19922889",
            "value": 231508
          }
        },
        "98535be518024a719e77b0b9c203d3de": {
          "model_module": "@jupyter-widgets/controls",
          "model_name": "HTMLModel",
          "model_module_version": "1.5.0",
          "state": {
            "_dom_classes": [],
            "_model_module": "@jupyter-widgets/controls",
            "_model_module_version": "1.5.0",
            "_model_name": "HTMLModel",
            "_view_count": null,
            "_view_module": "@jupyter-widgets/controls",
            "_view_module_version": "1.5.0",
            "_view_name": "HTMLView",
            "description": "",
            "description_tooltip": null,
            "layout": "IPY_MODEL_ef6606f9a4db479da021c6fa4e20e61b",
            "placeholder": "​",
            "style": "IPY_MODEL_9ba5c02515d245918af901b0b9084c21",
            "value": " 232k/232k [00:00&lt;00:00, 9.39MB/s]"
          }
        },
        "eb050e9b01a44654a86342ece8028cc6": {
          "model_module": "@jupyter-widgets/base",
          "model_name": "LayoutModel",
          "model_module_version": "1.2.0",
          "state": {
            "_model_module": "@jupyter-widgets/base",
            "_model_module_version": "1.2.0",
            "_model_name": "LayoutModel",
            "_view_count": null,
            "_view_module": "@jupyter-widgets/base",
            "_view_module_version": "1.2.0",
            "_view_name": "LayoutView",
            "align_content": null,
            "align_items": null,
            "align_self": null,
            "border": null,
            "bottom": null,
            "display": null,
            "flex": null,
            "flex_flow": null,
            "grid_area": null,
            "grid_auto_columns": null,
            "grid_auto_flow": null,
            "grid_auto_rows": null,
            "grid_column": null,
            "grid_gap": null,
            "grid_row": null,
            "grid_template_areas": null,
            "grid_template_columns": null,
            "grid_template_rows": null,
            "height": null,
            "justify_content": null,
            "justify_items": null,
            "left": null,
            "margin": null,
            "max_height": null,
            "max_width": null,
            "min_height": null,
            "min_width": null,
            "object_fit": null,
            "object_position": null,
            "order": null,
            "overflow": null,
            "overflow_x": null,
            "overflow_y": null,
            "padding": null,
            "right": null,
            "top": null,
            "visibility": null,
            "width": null
          }
        },
        "276500c5b2fb48788f0c3c72c5c97a46": {
          "model_module": "@jupyter-widgets/base",
          "model_name": "LayoutModel",
          "model_module_version": "1.2.0",
          "state": {
            "_model_module": "@jupyter-widgets/base",
            "_model_module_version": "1.2.0",
            "_model_name": "LayoutModel",
            "_view_count": null,
            "_view_module": "@jupyter-widgets/base",
            "_view_module_version": "1.2.0",
            "_view_name": "LayoutView",
            "align_content": null,
            "align_items": null,
            "align_self": null,
            "border": null,
            "bottom": null,
            "display": null,
            "flex": null,
            "flex_flow": null,
            "grid_area": null,
            "grid_auto_columns": null,
            "grid_auto_flow": null,
            "grid_auto_rows": null,
            "grid_column": null,
            "grid_gap": null,
            "grid_row": null,
            "grid_template_areas": null,
            "grid_template_columns": null,
            "grid_template_rows": null,
            "height": null,
            "justify_content": null,
            "justify_items": null,
            "left": null,
            "margin": null,
            "max_height": null,
            "max_width": null,
            "min_height": null,
            "min_width": null,
            "object_fit": null,
            "object_position": null,
            "order": null,
            "overflow": null,
            "overflow_x": null,
            "overflow_y": null,
            "padding": null,
            "right": null,
            "top": null,
            "visibility": null,
            "width": null
          }
        },
        "a28d86b1b3d540a4b991e4ef96f68827": {
          "model_module": "@jupyter-widgets/controls",
          "model_name": "DescriptionStyleModel",
          "model_module_version": "1.5.0",
          "state": {
            "_model_module": "@jupyter-widgets/controls",
            "_model_module_version": "1.5.0",
            "_model_name": "DescriptionStyleModel",
            "_view_count": null,
            "_view_module": "@jupyter-widgets/base",
            "_view_module_version": "1.2.0",
            "_view_name": "StyleView",
            "description_width": ""
          }
        },
        "9a0093f31ac2495daf1626179165a29d": {
          "model_module": "@jupyter-widgets/base",
          "model_name": "LayoutModel",
          "model_module_version": "1.2.0",
          "state": {
            "_model_module": "@jupyter-widgets/base",
            "_model_module_version": "1.2.0",
            "_model_name": "LayoutModel",
            "_view_count": null,
            "_view_module": "@jupyter-widgets/base",
            "_view_module_version": "1.2.0",
            "_view_name": "LayoutView",
            "align_content": null,
            "align_items": null,
            "align_self": null,
            "border": null,
            "bottom": null,
            "display": null,
            "flex": null,
            "flex_flow": null,
            "grid_area": null,
            "grid_auto_columns": null,
            "grid_auto_flow": null,
            "grid_auto_rows": null,
            "grid_column": null,
            "grid_gap": null,
            "grid_row": null,
            "grid_template_areas": null,
            "grid_template_columns": null,
            "grid_template_rows": null,
            "height": null,
            "justify_content": null,
            "justify_items": null,
            "left": null,
            "margin": null,
            "max_height": null,
            "max_width": null,
            "min_height": null,
            "min_width": null,
            "object_fit": null,
            "object_position": null,
            "order": null,
            "overflow": null,
            "overflow_x": null,
            "overflow_y": null,
            "padding": null,
            "right": null,
            "top": null,
            "visibility": null,
            "width": null
          }
        },
        "f1aaf2c5fc8f4aee8e09e17d19922889": {
          "model_module": "@jupyter-widgets/controls",
          "model_name": "ProgressStyleModel",
          "model_module_version": "1.5.0",
          "state": {
            "_model_module": "@jupyter-widgets/controls",
            "_model_module_version": "1.5.0",
            "_model_name": "ProgressStyleModel",
            "_view_count": null,
            "_view_module": "@jupyter-widgets/base",
            "_view_module_version": "1.2.0",
            "_view_name": "StyleView",
            "bar_color": null,
            "description_width": ""
          }
        },
        "ef6606f9a4db479da021c6fa4e20e61b": {
          "model_module": "@jupyter-widgets/base",
          "model_name": "LayoutModel",
          "model_module_version": "1.2.0",
          "state": {
            "_model_module": "@jupyter-widgets/base",
            "_model_module_version": "1.2.0",
            "_model_name": "LayoutModel",
            "_view_count": null,
            "_view_module": "@jupyter-widgets/base",
            "_view_module_version": "1.2.0",
            "_view_name": "LayoutView",
            "align_content": null,
            "align_items": null,
            "align_self": null,
            "border": null,
            "bottom": null,
            "display": null,
            "flex": null,
            "flex_flow": null,
            "grid_area": null,
            "grid_auto_columns": null,
            "grid_auto_flow": null,
            "grid_auto_rows": null,
            "grid_column": null,
            "grid_gap": null,
            "grid_row": null,
            "grid_template_areas": null,
            "grid_template_columns": null,
            "grid_template_rows": null,
            "height": null,
            "justify_content": null,
            "justify_items": null,
            "left": null,
            "margin": null,
            "max_height": null,
            "max_width": null,
            "min_height": null,
            "min_width": null,
            "object_fit": null,
            "object_position": null,
            "order": null,
            "overflow": null,
            "overflow_x": null,
            "overflow_y": null,
            "padding": null,
            "right": null,
            "top": null,
            "visibility": null,
            "width": null
          }
        },
        "9ba5c02515d245918af901b0b9084c21": {
          "model_module": "@jupyter-widgets/controls",
          "model_name": "DescriptionStyleModel",
          "model_module_version": "1.5.0",
          "state": {
            "_model_module": "@jupyter-widgets/controls",
            "_model_module_version": "1.5.0",
            "_model_name": "DescriptionStyleModel",
            "_view_count": null,
            "_view_module": "@jupyter-widgets/base",
            "_view_module_version": "1.2.0",
            "_view_name": "StyleView",
            "description_width": ""
          }
        },
        "7aead4a5b6d9415589c9338673587108": {
          "model_module": "@jupyter-widgets/controls",
          "model_name": "HBoxModel",
          "model_module_version": "1.5.0",
          "state": {
            "_dom_classes": [],
            "_model_module": "@jupyter-widgets/controls",
            "_model_module_version": "1.5.0",
            "_model_name": "HBoxModel",
            "_view_count": null,
            "_view_module": "@jupyter-widgets/controls",
            "_view_module_version": "1.5.0",
            "_view_name": "HBoxView",
            "box_style": "",
            "children": [
              "IPY_MODEL_9aba12d40d5e4cdc9651724f6de362ee",
              "IPY_MODEL_ff88c111077240b3b7c1a16321719467",
              "IPY_MODEL_2e1395b5894f41df8bcebf85f50fbdec"
            ],
            "layout": "IPY_MODEL_41d2337a9cd04c26894be1a7f9859c3c"
          }
        },
        "9aba12d40d5e4cdc9651724f6de362ee": {
          "model_module": "@jupyter-widgets/controls",
          "model_name": "HTMLModel",
          "model_module_version": "1.5.0",
          "state": {
            "_dom_classes": [],
            "_model_module": "@jupyter-widgets/controls",
            "_model_module_version": "1.5.0",
            "_model_name": "HTMLModel",
            "_view_count": null,
            "_view_module": "@jupyter-widgets/controls",
            "_view_module_version": "1.5.0",
            "_view_name": "HTMLView",
            "description": "",
            "description_tooltip": null,
            "layout": "IPY_MODEL_4ea2bd751d0048128fa81310521fe986",
            "placeholder": "​",
            "style": "IPY_MODEL_a0ca720f57e94b4280a1d34cad9291e1",
            "value": "tokenizer.json: 100%"
          }
        },
        "ff88c111077240b3b7c1a16321719467": {
          "model_module": "@jupyter-widgets/controls",
          "model_name": "FloatProgressModel",
          "model_module_version": "1.5.0",
          "state": {
            "_dom_classes": [],
            "_model_module": "@jupyter-widgets/controls",
            "_model_module_version": "1.5.0",
            "_model_name": "FloatProgressModel",
            "_view_count": null,
            "_view_module": "@jupyter-widgets/controls",
            "_view_module_version": "1.5.0",
            "_view_name": "ProgressView",
            "bar_style": "success",
            "description": "",
            "description_tooltip": null,
            "layout": "IPY_MODEL_d9548adea2a54f9eb83ba7a2cd0c13aa",
            "max": 466062,
            "min": 0,
            "orientation": "horizontal",
            "style": "IPY_MODEL_37ebf278d53c467db986b74ee9e96dde",
            "value": 466062
          }
        },
        "2e1395b5894f41df8bcebf85f50fbdec": {
          "model_module": "@jupyter-widgets/controls",
          "model_name": "HTMLModel",
          "model_module_version": "1.5.0",
          "state": {
            "_dom_classes": [],
            "_model_module": "@jupyter-widgets/controls",
            "_model_module_version": "1.5.0",
            "_model_name": "HTMLModel",
            "_view_count": null,
            "_view_module": "@jupyter-widgets/controls",
            "_view_module_version": "1.5.0",
            "_view_name": "HTMLView",
            "description": "",
            "description_tooltip": null,
            "layout": "IPY_MODEL_3990742e6dc441569bc25465c85e11aa",
            "placeholder": "​",
            "style": "IPY_MODEL_ebe6b6cd0c5b4b6899103ce158caace3",
            "value": " 466k/466k [00:00&lt;00:00, 8.14MB/s]"
          }
        },
        "41d2337a9cd04c26894be1a7f9859c3c": {
          "model_module": "@jupyter-widgets/base",
          "model_name": "LayoutModel",
          "model_module_version": "1.2.0",
          "state": {
            "_model_module": "@jupyter-widgets/base",
            "_model_module_version": "1.2.0",
            "_model_name": "LayoutModel",
            "_view_count": null,
            "_view_module": "@jupyter-widgets/base",
            "_view_module_version": "1.2.0",
            "_view_name": "LayoutView",
            "align_content": null,
            "align_items": null,
            "align_self": null,
            "border": null,
            "bottom": null,
            "display": null,
            "flex": null,
            "flex_flow": null,
            "grid_area": null,
            "grid_auto_columns": null,
            "grid_auto_flow": null,
            "grid_auto_rows": null,
            "grid_column": null,
            "grid_gap": null,
            "grid_row": null,
            "grid_template_areas": null,
            "grid_template_columns": null,
            "grid_template_rows": null,
            "height": null,
            "justify_content": null,
            "justify_items": null,
            "left": null,
            "margin": null,
            "max_height": null,
            "max_width": null,
            "min_height": null,
            "min_width": null,
            "object_fit": null,
            "object_position": null,
            "order": null,
            "overflow": null,
            "overflow_x": null,
            "overflow_y": null,
            "padding": null,
            "right": null,
            "top": null,
            "visibility": null,
            "width": null
          }
        },
        "4ea2bd751d0048128fa81310521fe986": {
          "model_module": "@jupyter-widgets/base",
          "model_name": "LayoutModel",
          "model_module_version": "1.2.0",
          "state": {
            "_model_module": "@jupyter-widgets/base",
            "_model_module_version": "1.2.0",
            "_model_name": "LayoutModel",
            "_view_count": null,
            "_view_module": "@jupyter-widgets/base",
            "_view_module_version": "1.2.0",
            "_view_name": "LayoutView",
            "align_content": null,
            "align_items": null,
            "align_self": null,
            "border": null,
            "bottom": null,
            "display": null,
            "flex": null,
            "flex_flow": null,
            "grid_area": null,
            "grid_auto_columns": null,
            "grid_auto_flow": null,
            "grid_auto_rows": null,
            "grid_column": null,
            "grid_gap": null,
            "grid_row": null,
            "grid_template_areas": null,
            "grid_template_columns": null,
            "grid_template_rows": null,
            "height": null,
            "justify_content": null,
            "justify_items": null,
            "left": null,
            "margin": null,
            "max_height": null,
            "max_width": null,
            "min_height": null,
            "min_width": null,
            "object_fit": null,
            "object_position": null,
            "order": null,
            "overflow": null,
            "overflow_x": null,
            "overflow_y": null,
            "padding": null,
            "right": null,
            "top": null,
            "visibility": null,
            "width": null
          }
        },
        "a0ca720f57e94b4280a1d34cad9291e1": {
          "model_module": "@jupyter-widgets/controls",
          "model_name": "DescriptionStyleModel",
          "model_module_version": "1.5.0",
          "state": {
            "_model_module": "@jupyter-widgets/controls",
            "_model_module_version": "1.5.0",
            "_model_name": "DescriptionStyleModel",
            "_view_count": null,
            "_view_module": "@jupyter-widgets/base",
            "_view_module_version": "1.2.0",
            "_view_name": "StyleView",
            "description_width": ""
          }
        },
        "d9548adea2a54f9eb83ba7a2cd0c13aa": {
          "model_module": "@jupyter-widgets/base",
          "model_name": "LayoutModel",
          "model_module_version": "1.2.0",
          "state": {
            "_model_module": "@jupyter-widgets/base",
            "_model_module_version": "1.2.0",
            "_model_name": "LayoutModel",
            "_view_count": null,
            "_view_module": "@jupyter-widgets/base",
            "_view_module_version": "1.2.0",
            "_view_name": "LayoutView",
            "align_content": null,
            "align_items": null,
            "align_self": null,
            "border": null,
            "bottom": null,
            "display": null,
            "flex": null,
            "flex_flow": null,
            "grid_area": null,
            "grid_auto_columns": null,
            "grid_auto_flow": null,
            "grid_auto_rows": null,
            "grid_column": null,
            "grid_gap": null,
            "grid_row": null,
            "grid_template_areas": null,
            "grid_template_columns": null,
            "grid_template_rows": null,
            "height": null,
            "justify_content": null,
            "justify_items": null,
            "left": null,
            "margin": null,
            "max_height": null,
            "max_width": null,
            "min_height": null,
            "min_width": null,
            "object_fit": null,
            "object_position": null,
            "order": null,
            "overflow": null,
            "overflow_x": null,
            "overflow_y": null,
            "padding": null,
            "right": null,
            "top": null,
            "visibility": null,
            "width": null
          }
        },
        "37ebf278d53c467db986b74ee9e96dde": {
          "model_module": "@jupyter-widgets/controls",
          "model_name": "ProgressStyleModel",
          "model_module_version": "1.5.0",
          "state": {
            "_model_module": "@jupyter-widgets/controls",
            "_model_module_version": "1.5.0",
            "_model_name": "ProgressStyleModel",
            "_view_count": null,
            "_view_module": "@jupyter-widgets/base",
            "_view_module_version": "1.2.0",
            "_view_name": "StyleView",
            "bar_color": null,
            "description_width": ""
          }
        },
        "3990742e6dc441569bc25465c85e11aa": {
          "model_module": "@jupyter-widgets/base",
          "model_name": "LayoutModel",
          "model_module_version": "1.2.0",
          "state": {
            "_model_module": "@jupyter-widgets/base",
            "_model_module_version": "1.2.0",
            "_model_name": "LayoutModel",
            "_view_count": null,
            "_view_module": "@jupyter-widgets/base",
            "_view_module_version": "1.2.0",
            "_view_name": "LayoutView",
            "align_content": null,
            "align_items": null,
            "align_self": null,
            "border": null,
            "bottom": null,
            "display": null,
            "flex": null,
            "flex_flow": null,
            "grid_area": null,
            "grid_auto_columns": null,
            "grid_auto_flow": null,
            "grid_auto_rows": null,
            "grid_column": null,
            "grid_gap": null,
            "grid_row": null,
            "grid_template_areas": null,
            "grid_template_columns": null,
            "grid_template_rows": null,
            "height": null,
            "justify_content": null,
            "justify_items": null,
            "left": null,
            "margin": null,
            "max_height": null,
            "max_width": null,
            "min_height": null,
            "min_width": null,
            "object_fit": null,
            "object_position": null,
            "order": null,
            "overflow": null,
            "overflow_x": null,
            "overflow_y": null,
            "padding": null,
            "right": null,
            "top": null,
            "visibility": null,
            "width": null
          }
        },
        "ebe6b6cd0c5b4b6899103ce158caace3": {
          "model_module": "@jupyter-widgets/controls",
          "model_name": "DescriptionStyleModel",
          "model_module_version": "1.5.0",
          "state": {
            "_model_module": "@jupyter-widgets/controls",
            "_model_module_version": "1.5.0",
            "_model_name": "DescriptionStyleModel",
            "_view_count": null,
            "_view_module": "@jupyter-widgets/base",
            "_view_module_version": "1.2.0",
            "_view_name": "StyleView",
            "description_width": ""
          }
        },
        "cc80aebcf49d487290d6c712eaa33b14": {
          "model_module": "@jupyter-widgets/controls",
          "model_name": "HBoxModel",
          "model_module_version": "1.5.0",
          "state": {
            "_dom_classes": [],
            "_model_module": "@jupyter-widgets/controls",
            "_model_module_version": "1.5.0",
            "_model_name": "HBoxModel",
            "_view_count": null,
            "_view_module": "@jupyter-widgets/controls",
            "_view_module_version": "1.5.0",
            "_view_name": "HBoxView",
            "box_style": "",
            "children": [
              "IPY_MODEL_7a1dc4dac6754fc693f4ae451aee40d0",
              "IPY_MODEL_4a10498858ea4081be3502bf69927135",
              "IPY_MODEL_158f007170b44d789dcb4f2e3a25e332"
            ],
            "layout": "IPY_MODEL_602d2ea6cdfd4591ae2b762b3004bd05"
          }
        },
        "7a1dc4dac6754fc693f4ae451aee40d0": {
          "model_module": "@jupyter-widgets/controls",
          "model_name": "HTMLModel",
          "model_module_version": "1.5.0",
          "state": {
            "_dom_classes": [],
            "_model_module": "@jupyter-widgets/controls",
            "_model_module_version": "1.5.0",
            "_model_name": "HTMLModel",
            "_view_count": null,
            "_view_module": "@jupyter-widgets/controls",
            "_view_module_version": "1.5.0",
            "_view_name": "HTMLView",
            "description": "",
            "description_tooltip": null,
            "layout": "IPY_MODEL_fffcedf3727945e386f3c1505b2afcfc",
            "placeholder": "​",
            "style": "IPY_MODEL_e43c28a008b240adbfb283422f37e519",
            "value": "model.safetensors: 100%"
          }
        },
        "4a10498858ea4081be3502bf69927135": {
          "model_module": "@jupyter-widgets/controls",
          "model_name": "FloatProgressModel",
          "model_module_version": "1.5.0",
          "state": {
            "_dom_classes": [],
            "_model_module": "@jupyter-widgets/controls",
            "_model_module_version": "1.5.0",
            "_model_name": "FloatProgressModel",
            "_view_count": null,
            "_view_module": "@jupyter-widgets/controls",
            "_view_module_version": "1.5.0",
            "_view_name": "ProgressView",
            "bar_style": "success",
            "description": "",
            "description_tooltip": null,
            "layout": "IPY_MODEL_94f5df3e6e134daeb0ea1d518c7021ae",
            "max": 440449768,
            "min": 0,
            "orientation": "horizontal",
            "style": "IPY_MODEL_9d404a63b5cb42fcb1a0534e8d78b6ae",
            "value": 440449768
          }
        },
        "158f007170b44d789dcb4f2e3a25e332": {
          "model_module": "@jupyter-widgets/controls",
          "model_name": "HTMLModel",
          "model_module_version": "1.5.0",
          "state": {
            "_dom_classes": [],
            "_model_module": "@jupyter-widgets/controls",
            "_model_module_version": "1.5.0",
            "_model_name": "HTMLModel",
            "_view_count": null,
            "_view_module": "@jupyter-widgets/controls",
            "_view_module_version": "1.5.0",
            "_view_name": "HTMLView",
            "description": "",
            "description_tooltip": null,
            "layout": "IPY_MODEL_7e296bb480b14a77ae2bcd1d90556f12",
            "placeholder": "​",
            "style": "IPY_MODEL_93507fbf6bb747739bf1215fc05b2005",
            "value": " 440M/440M [00:01&lt;00:00, 381MB/s]"
          }
        },
        "602d2ea6cdfd4591ae2b762b3004bd05": {
          "model_module": "@jupyter-widgets/base",
          "model_name": "LayoutModel",
          "model_module_version": "1.2.0",
          "state": {
            "_model_module": "@jupyter-widgets/base",
            "_model_module_version": "1.2.0",
            "_model_name": "LayoutModel",
            "_view_count": null,
            "_view_module": "@jupyter-widgets/base",
            "_view_module_version": "1.2.0",
            "_view_name": "LayoutView",
            "align_content": null,
            "align_items": null,
            "align_self": null,
            "border": null,
            "bottom": null,
            "display": null,
            "flex": null,
            "flex_flow": null,
            "grid_area": null,
            "grid_auto_columns": null,
            "grid_auto_flow": null,
            "grid_auto_rows": null,
            "grid_column": null,
            "grid_gap": null,
            "grid_row": null,
            "grid_template_areas": null,
            "grid_template_columns": null,
            "grid_template_rows": null,
            "height": null,
            "justify_content": null,
            "justify_items": null,
            "left": null,
            "margin": null,
            "max_height": null,
            "max_width": null,
            "min_height": null,
            "min_width": null,
            "object_fit": null,
            "object_position": null,
            "order": null,
            "overflow": null,
            "overflow_x": null,
            "overflow_y": null,
            "padding": null,
            "right": null,
            "top": null,
            "visibility": null,
            "width": null
          }
        },
        "fffcedf3727945e386f3c1505b2afcfc": {
          "model_module": "@jupyter-widgets/base",
          "model_name": "LayoutModel",
          "model_module_version": "1.2.0",
          "state": {
            "_model_module": "@jupyter-widgets/base",
            "_model_module_version": "1.2.0",
            "_model_name": "LayoutModel",
            "_view_count": null,
            "_view_module": "@jupyter-widgets/base",
            "_view_module_version": "1.2.0",
            "_view_name": "LayoutView",
            "align_content": null,
            "align_items": null,
            "align_self": null,
            "border": null,
            "bottom": null,
            "display": null,
            "flex": null,
            "flex_flow": null,
            "grid_area": null,
            "grid_auto_columns": null,
            "grid_auto_flow": null,
            "grid_auto_rows": null,
            "grid_column": null,
            "grid_gap": null,
            "grid_row": null,
            "grid_template_areas": null,
            "grid_template_columns": null,
            "grid_template_rows": null,
            "height": null,
            "justify_content": null,
            "justify_items": null,
            "left": null,
            "margin": null,
            "max_height": null,
            "max_width": null,
            "min_height": null,
            "min_width": null,
            "object_fit": null,
            "object_position": null,
            "order": null,
            "overflow": null,
            "overflow_x": null,
            "overflow_y": null,
            "padding": null,
            "right": null,
            "top": null,
            "visibility": null,
            "width": null
          }
        },
        "e43c28a008b240adbfb283422f37e519": {
          "model_module": "@jupyter-widgets/controls",
          "model_name": "DescriptionStyleModel",
          "model_module_version": "1.5.0",
          "state": {
            "_model_module": "@jupyter-widgets/controls",
            "_model_module_version": "1.5.0",
            "_model_name": "DescriptionStyleModel",
            "_view_count": null,
            "_view_module": "@jupyter-widgets/base",
            "_view_module_version": "1.2.0",
            "_view_name": "StyleView",
            "description_width": ""
          }
        },
        "94f5df3e6e134daeb0ea1d518c7021ae": {
          "model_module": "@jupyter-widgets/base",
          "model_name": "LayoutModel",
          "model_module_version": "1.2.0",
          "state": {
            "_model_module": "@jupyter-widgets/base",
            "_model_module_version": "1.2.0",
            "_model_name": "LayoutModel",
            "_view_count": null,
            "_view_module": "@jupyter-widgets/base",
            "_view_module_version": "1.2.0",
            "_view_name": "LayoutView",
            "align_content": null,
            "align_items": null,
            "align_self": null,
            "border": null,
            "bottom": null,
            "display": null,
            "flex": null,
            "flex_flow": null,
            "grid_area": null,
            "grid_auto_columns": null,
            "grid_auto_flow": null,
            "grid_auto_rows": null,
            "grid_column": null,
            "grid_gap": null,
            "grid_row": null,
            "grid_template_areas": null,
            "grid_template_columns": null,
            "grid_template_rows": null,
            "height": null,
            "justify_content": null,
            "justify_items": null,
            "left": null,
            "margin": null,
            "max_height": null,
            "max_width": null,
            "min_height": null,
            "min_width": null,
            "object_fit": null,
            "object_position": null,
            "order": null,
            "overflow": null,
            "overflow_x": null,
            "overflow_y": null,
            "padding": null,
            "right": null,
            "top": null,
            "visibility": null,
            "width": null
          }
        },
        "9d404a63b5cb42fcb1a0534e8d78b6ae": {
          "model_module": "@jupyter-widgets/controls",
          "model_name": "ProgressStyleModel",
          "model_module_version": "1.5.0",
          "state": {
            "_model_module": "@jupyter-widgets/controls",
            "_model_module_version": "1.5.0",
            "_model_name": "ProgressStyleModel",
            "_view_count": null,
            "_view_module": "@jupyter-widgets/base",
            "_view_module_version": "1.2.0",
            "_view_name": "StyleView",
            "bar_color": null,
            "description_width": ""
          }
        },
        "7e296bb480b14a77ae2bcd1d90556f12": {
          "model_module": "@jupyter-widgets/base",
          "model_name": "LayoutModel",
          "model_module_version": "1.2.0",
          "state": {
            "_model_module": "@jupyter-widgets/base",
            "_model_module_version": "1.2.0",
            "_model_name": "LayoutModel",
            "_view_count": null,
            "_view_module": "@jupyter-widgets/base",
            "_view_module_version": "1.2.0",
            "_view_name": "LayoutView",
            "align_content": null,
            "align_items": null,
            "align_self": null,
            "border": null,
            "bottom": null,
            "display": null,
            "flex": null,
            "flex_flow": null,
            "grid_area": null,
            "grid_auto_columns": null,
            "grid_auto_flow": null,
            "grid_auto_rows": null,
            "grid_column": null,
            "grid_gap": null,
            "grid_row": null,
            "grid_template_areas": null,
            "grid_template_columns": null,
            "grid_template_rows": null,
            "height": null,
            "justify_content": null,
            "justify_items": null,
            "left": null,
            "margin": null,
            "max_height": null,
            "max_width": null,
            "min_height": null,
            "min_width": null,
            "object_fit": null,
            "object_position": null,
            "order": null,
            "overflow": null,
            "overflow_x": null,
            "overflow_y": null,
            "padding": null,
            "right": null,
            "top": null,
            "visibility": null,
            "width": null
          }
        },
        "93507fbf6bb747739bf1215fc05b2005": {
          "model_module": "@jupyter-widgets/controls",
          "model_name": "DescriptionStyleModel",
          "model_module_version": "1.5.0",
          "state": {
            "_model_module": "@jupyter-widgets/controls",
            "_model_module_version": "1.5.0",
            "_model_name": "DescriptionStyleModel",
            "_view_count": null,
            "_view_module": "@jupyter-widgets/base",
            "_view_module_version": "1.2.0",
            "_view_name": "StyleView",
            "description_width": ""
          }
        }
      }
    }
  },
  "cells": [
    {
      "cell_type": "markdown",
      "source": [
        "#STAT 548/CSE 547 Tutorial: Vectorization\n",
        "### **Instructor**:</b> Marina Meila\n",
        "### **TA**: Medha Agarwal\n",
        "### **Date**: May 05, 2025\n",
        "\n",
        "---\n",
        "\n",
        "## ⏰ Previously...\n",
        "\n",
        "We looked at use of different compute environments, methods for package management, and a standard ML pipeline for clustering on image data.\n",
        "\n",
        "---\n",
        "\n",
        "## 📘 Tutorial Overview\n",
        "\n",
        "In this tutorial, we will study **Vectorization**. Vectorization is the process of converting scalar operations (loop-based) into array operations, enabling faster computation using low-level optimizations (like SIMD or BLAS under the hood). Python is an interpreted language, which means that each line of code is executed one at a time by the interpreter. This results in a significant overhead—especially for functions and loops—compared to compiled languages like C or C++, where code is translated into fast, machine-level instructions ahead of time. To avoid the performance hit from running many slow Python loops, programmers instead use vectorization: a strategy that leverages pre-compiled, highly optimized low-level functions (also called kernels)—often written in C or Fortran—to perform large-scale operations in a single step.\n",
        "\n",
        "TL;DR:\n",
        "\n",
        "- Loops are slow in Python due to interpreted execution.\n",
        "\n",
        "- Vectorized operations run in compiled C.\n",
        "\n",
        "- Vectorization minimizes overhead and memory access.\n",
        "\n",
        "Later, we will look at an alternate definition of Vectorization.\n",
        "\n",
        "\n",
        "Consider the simple example.\n"
      ],
      "metadata": {
        "id": "FufIRk7kOEWy"
      }
    },
    {
      "cell_type": "code",
      "execution_count": null,
      "metadata": {
        "colab": {
          "base_uri": "https://localhost:8080/"
        },
        "id": "EM1wM_OoOCOY",
        "outputId": "b2e455ea-0d77-4ad3-c60c-974e71032988"
      },
      "outputs": [
        {
          "output_type": "stream",
          "name": "stdout",
          "text": [
            "Loop:          0.2502572536468506\n",
            "Vectorized:    0.01661968231201172\n"
          ]
        }
      ],
      "source": [
        "import numpy as np\n",
        "import time\n",
        "\n",
        "a = np.random.rand(1000000)\n",
        "b = np.random.rand(1000000)\n",
        "\n",
        "# Elementwise additon\n",
        "\n",
        "start = time.time()\n",
        "c = [a[i] + b[i] for i in range(len(a))]  # slow\n",
        "print(f\"{'Loop:':<15}{time.time() - start}\")\n",
        "\n",
        "start = time.time()\n",
        "c = a + b  # fast\n",
        "print(f\"{'Vectorized:':<15}{time.time() - start}\")"
      ]
    },
    {
      "cell_type": "markdown",
      "source": [
        "#### **Why Are Python Loops Slow?**\n",
        "\n",
        "1. **Python is interpreted**: Python executes code line by line using an interpreter (like CPython). Each operation (like `a + b`) involv.\n",
        "\n",
        "2. **Dynamic typing**: Python figures out the type of each variable *at runtime*, which slows down simple operations compared to compiled languages like C, where types are known ahead of time.\n",
        "\n",
        "3. **No CPU-level optimization**:In Python loops, each iteration is a high-level Python operation. The interpreter can't take advantage of low-level CPU optimizations like SIMD (single instruction, multiple data) or pipelining.\n",
        "\n",
        "4. **Function call overhead**: Calling a function in Python involves building a call stack, managing arguments, and more—this adds up inside loops.\n",
        "\n",
        "\n",
        "#### **What Is Vectorization Fast?**\n",
        "\n",
        "1. **Pre-compiled code**: Libraries like NumPy use C or Fortran code under the hood. These libraries are compiled once into machine code and linked into Python. They are extremely fast.\n",
        "\n",
        "2. **Vectorization**: Instead of looping in Python, you send an entire array or matrix to a **compiled function** (a kernel). The compiled function runs at C-speed, using optimized operations (SIMD, multi-threading, BLAS, etc.).\n"
      ],
      "metadata": {
        "id": "FtdBb_Y0Shfj"
      }
    },
    {
      "cell_type": "code",
      "source": [
        "# Elementwise multiplication\n",
        "\n",
        "start = time.time()\n",
        "c = [a[i] * b[i] for i in range(len(a))]  # slow\n",
        "print(f\"{'Loop:':<15}{time.time() - start}\")\n",
        "\n",
        "start = time.time()\n",
        "c = np.dot(a, b)  # fast\n",
        "print(f\"{'Vectorized:':<15}{time.time() - start}\")"
      ],
      "metadata": {
        "colab": {
          "base_uri": "https://localhost:8080/"
        },
        "id": "4N4edlPSRoVY",
        "outputId": "8679cab5-8ce3-4ded-9813-1e54072721b5"
      },
      "execution_count": null,
      "outputs": [
        {
          "output_type": "stream",
          "name": "stdout",
          "text": [
            "Loop:          0.30338430404663086\n",
            "Vectorized:    0.020466089248657227\n"
          ]
        }
      ]
    },
    {
      "cell_type": "code",
      "source": [
        "# Applying a function\n",
        "\n",
        "def taxed_price(price, tax_rate, discount):\n",
        "    return (price * (1 + tax_rate)) - discount\n",
        "\n",
        "prices = np.random.randn(10000)\n",
        "tax_rate = 0.1\n",
        "discount = 15\n",
        "\n",
        "# loop\n",
        "start = time.time()\n",
        "results = np.array([\n",
        "    taxed_price(p, tax_rate, discount) for p in prices\n",
        "])\n",
        "print(f\"{'Loop:':<15}{time.time() - start}\")\n",
        "\n",
        "# using np.vectorize\n",
        "start = time.time()\n",
        "vectorized_taxed_price = np.vectorize(taxed_price)\n",
        "results = vectorized_taxed_price(prices, tax_rate=0.1, discount=15)\n",
        "print(f\"{'np.vectorize:':<15}{time.time() - start}\")\n",
        "\n",
        "# broadcasting\n",
        "start = time.time()\n",
        "results = taxed_price(prices, tax_rate=0.1, discount=15)\n",
        "print(f\"{'Vectorized:':<15}{time.time() - start}\")\n"
      ],
      "metadata": {
        "colab": {
          "base_uri": "https://localhost:8080/"
        },
        "id": "eJd3-KZRTrEz",
        "outputId": "d066734e-2329-4731-9072-7a12342db4e3"
      },
      "execution_count": null,
      "outputs": [
        {
          "output_type": "stream",
          "name": "stdout",
          "text": [
            "Loop:          0.009400367736816406\n",
            "np.vectorize:  0.02224111557006836\n",
            "Vectorized:    0.0001857280731201172\n"
          ]
        }
      ]
    },
    {
      "cell_type": "markdown",
      "source": [
        "Broadcasting is a set of rules that NumPy uses to perform element-wise operations on arrays of different shapes.\n",
        "Instead of explicitly copying or reshaping arrays to match in size, NumPy \"broadcasts\" the smaller array across the larger one as if it were replicated to match dimensions."
      ],
      "metadata": {
        "id": "E437yvQPYiqL"
      }
    },
    {
      "cell_type": "code",
      "source": [
        "import numpy as np\n",
        "\n",
        "a = np.array([1, 2, 3])\n",
        "b = 10\n",
        "a + b  # [11, 12, 13]\n"
      ],
      "metadata": {
        "colab": {
          "base_uri": "https://localhost:8080/"
        },
        "id": "mNBOCsZUYmc4",
        "outputId": "c378acc7-bf1d-441d-8a3b-6ccbf9cc1e14"
      },
      "execution_count": null,
      "outputs": [
        {
          "output_type": "execute_result",
          "data": {
            "text/plain": [
              "array([11, 12, 13])"
            ]
          },
          "metadata": {},
          "execution_count": 30
        }
      ]
    },
    {
      "cell_type": "markdown",
      "source": [
        "\n",
        "Given:\n",
        "\n",
        "* A matrix `A` of shape `(m, n)`\n",
        "* A vector `x` of shape `(n,)`\n",
        "\n",
        "Compute the product `y = A @ x`, which results in a vector of shape `(m,)`.\n"
      ],
      "metadata": {
        "id": "Ve67cClqY8M0"
      }
    },
    {
      "cell_type": "code",
      "source": [
        "A = np.random.rand(1000, 1000)\n",
        "x = np.random.rand(1000)\n",
        "\n",
        "# Loop-based matrix-vector multiplication\n",
        "start = time.time()\n",
        "y_loop = np.zeros(A.shape[0])\n",
        "for i in range(A.shape[0]):\n",
        "    for j in range(A.shape[1]):\n",
        "        y_loop[i] += A[i, j] * x[j]\n",
        "print(f\"{'Loop:':<15}{time.time() - start}\")\n",
        "\n",
        "start = time.time()\n",
        "y_vec = A @ x\n",
        "print(f\"{'Vectorized:':<15}{time.time() - start}\")\n"
      ],
      "metadata": {
        "colab": {
          "base_uri": "https://localhost:8080/"
        },
        "id": "PTOpXj8hYnDI",
        "outputId": "cdc56580-eeb0-4cdd-863d-9eacd3b5e1cc"
      },
      "execution_count": null,
      "outputs": [
        {
          "output_type": "stream",
          "name": "stdout",
          "text": [
            "Loop:          1.0335450172424316\n",
            "Vectorized:    0.0013082027435302734\n"
          ]
        }
      ]
    },
    {
      "cell_type": "markdown",
      "source": [
        "Given:\n",
        "- `A` is set of `n` vectors of dimension `d`, shape `(n,d)`\n",
        "- `B` is set of `n` vectors of dimension `d`, shape `(n,d)`\n",
        "\n",
        "Compute the Euclidean distance between points in `A` and `B`."
      ],
      "metadata": {
        "id": "U_MJjoCXZXfL"
      }
    },
    {
      "cell_type": "code",
      "source": [
        "A = np.random.rand(1000, 3)\n",
        "B = np.random.rand(1000, 3)\n",
        "\n",
        "distances_loop = np.zeros(A.shape[0])\n",
        "start = time.time()\n",
        "for i in range(A.shape[0]):\n",
        "    diff = A[i] - B[i]\n",
        "    distances_loop[i] = np.sqrt(np.sum(diff ** 2))\n",
        "print(f\"{'Loop:':<15}{time.time() - start}\")\n",
        "\n",
        "start = time.time()\n",
        "distance_vec = np.linalg.norm(A-B)\n",
        "print(f\"{'Vectorized:':<15}{time.time() - start}\")\n"
      ],
      "metadata": {
        "colab": {
          "base_uri": "https://localhost:8080/"
        },
        "id": "eurLvkT0ZLCw",
        "outputId": "241b7a3d-4365-4093-da13-b1386876be3f"
      },
      "execution_count": null,
      "outputs": [
        {
          "output_type": "stream",
          "name": "stdout",
          "text": [
            "Loop:          0.00885915756225586\n",
            "Vectorized:    0.0007104873657226562\n"
          ]
        }
      ]
    },
    {
      "cell_type": "markdown",
      "source": [
        "#### Batch Gradient Descent for Logistic Regression\n",
        "\n",
        "Given:\n",
        "\n",
        "* Data matrix $X \\in \\mathbb{R}^{n \\times d}$\n",
        "* Labels $y \\in \\{0, 1\\}^n$\n",
        "* Weights $w \\in \\mathbb{R}^d$\n",
        "\n",
        "The **logistic function**:\n",
        "\n",
        "$$\n",
        "\\sigma(z) = \\frac{1}{1 + e^{-z}}\n",
        "$$\n",
        "\n",
        "**Loss**: Binary cross-entropy\n",
        "\n",
        "**Gradient**:\n",
        "\n",
        "$$\n",
        "\\nabla_w = \\frac{1}{n} X^T (\\sigma(Xw) - y)\n",
        "$$\n"
      ],
      "metadata": {
        "id": "Ma1BipXabR2q"
      }
    },
    {
      "cell_type": "code",
      "source": [
        "import numpy as np\n",
        "\n",
        "# Generate random dataset\n",
        "np.random.seed(0)\n",
        "n_samples, n_features = 1000, 10\n",
        "X = np.random.randn(n_samples, n_features)\n",
        "true_w = np.random.randn(n_features)\n",
        "y_prob = 1 / (1 + np.exp(-X @ true_w))\n",
        "y = (y_prob > 0.5).astype(float)  # Binary labels\n",
        "\n",
        "# Sigmoid function\n",
        "def sigmoid(z):\n",
        "    return 1 / (1 + np.exp(-z))\n"
      ],
      "metadata": {
        "id": "O79YqHcQahuU"
      },
      "execution_count": null,
      "outputs": []
    },
    {
      "cell_type": "code",
      "source": [
        "# Loop-based gradient descent\n",
        "w_loop = np.zeros(n_features)\n",
        "lr = 0.1\n",
        "epochs = 100\n",
        "\n",
        "start = time.time()\n",
        "for epoch in range(epochs):\n",
        "    gradient = np.zeros(n_features)\n",
        "    for i in range(n_samples):\n",
        "        z = np.dot(X[i], w_loop)\n",
        "        pred = sigmoid(z)\n",
        "        error = pred - y[i]\n",
        "        for j in range(n_features):\n",
        "            gradient[j] += error * X[i, j]\n",
        "    gradient /= n_samples\n",
        "    w_loop -= lr * gradient\n",
        "print(f\"{'Loop:':<15}{time.time() - start}\")\n",
        "\n",
        "# Vectorized gradient descent\n",
        "w_vec = np.zeros(n_features)\n",
        "\n",
        "start = time.time()\n",
        "for epoch in range(epochs):\n",
        "    z = X @ w_vec\n",
        "    pred = sigmoid(z)\n",
        "    error = pred - y\n",
        "    gradient = X.T @ error / n_samples\n",
        "    w_vec -= lr * gradient\n",
        "print(f\"{'Vectorized:':<15}{time.time() - start}\")\n"
      ],
      "metadata": {
        "colab": {
          "base_uri": "https://localhost:8080/"
        },
        "id": "2n8Rgeu7bAKu",
        "outputId": "2bab5365-ba74-4aa9-fd69-3629fce724c0"
      },
      "execution_count": null,
      "outputs": [
        {
          "output_type": "stream",
          "name": "stdout",
          "text": [
            "Loop:          1.1489245891571045\n",
            "Vectorized:    0.008505582809448242\n"
          ]
        }
      ]
    },
    {
      "cell_type": "code",
      "source": [
        "import torch\n",
        "import torch.nn.functional as F\n",
        "from tqdm import tqdm\n",
        "\n",
        "# Simulated binary classification dataset\n",
        "np.random.seed(0)\n",
        "n_samples, d, h = 1000, 10, 32\n",
        "X_np = np.random.randn(n_samples, d)\n",
        "y_np = (np.random.rand(n_samples) > 0.5).astype(np.float32)\n",
        "\n",
        "# Sigmoid and ReLU\n",
        "def sigmoid(z):\n",
        "    return 1 / (1 + np.exp(-z))\n",
        "\n",
        "def relu(z):\n",
        "    return np.maximum(0, z)\n",
        "\n",
        "def relu_grad(z):\n",
        "    return (z > 0).astype(np.float32)\n"
      ],
      "metadata": {
        "id": "XAJYaE_Wclnm"
      },
      "execution_count": null,
      "outputs": []
    },
    {
      "cell_type": "code",
      "source": [
        "# Initialize weights\n",
        "W1 = np.random.randn(d, h) * 0.01\n",
        "b1 = np.zeros(h)\n",
        "W2 = np.random.randn(h, 1) * 0.01\n",
        "b2 = np.zeros(1)\n",
        "lr = 0.1\n",
        "\n",
        "start = time.time()\n",
        "for epoch in tqdm(range(10)):\n",
        "    # Forward\n",
        "    Z1 = np.zeros((n_samples, h))\n",
        "    A1 = np.zeros((n_samples, h))\n",
        "    for i in range(n_samples):\n",
        "        for j in range(h):\n",
        "            Z1[i, j] = np.dot(X_np[i], W1[:, j]) + b1[j]\n",
        "            A1[i, j] = relu(Z1[i, j])\n",
        "\n",
        "    Z2 = np.zeros(n_samples)\n",
        "    A2 = np.zeros(n_samples)\n",
        "    for i in range(n_samples):\n",
        "        Z2[i] = np.dot(A1[i], W2[:, 0]) + b2[0]\n",
        "        A2[i] = sigmoid(Z2[i])\n",
        "\n",
        "    # Loss (binary cross-entropy)\n",
        "    loss = -np.mean(y_np * np.log(A2 + 1e-8) + (1 - y_np) * np.log(1 - A2 + 1e-8))\n",
        "\n",
        "    # Backward pass\n",
        "    dZ2 = A2 - y_np  # shape (n_samples,)\n",
        "    dW2 = np.zeros_like(W2)\n",
        "    db2 = np.sum(dZ2) / n_samples\n",
        "\n",
        "    for j in range(h):\n",
        "        for i in range(n_samples):\n",
        "            dW2[j] += dZ2[i] * A1[i, j]\n",
        "    dW2 /= n_samples\n",
        "\n",
        "    dA1 = np.dot(dZ2.reshape(-1, 1), W2.T)  # shape (n_samples, h)\n",
        "    dZ1 = dA1 * relu_grad(Z1)\n",
        "    dW1 = np.zeros_like(W1)\n",
        "    db1 = np.zeros_like(b1)\n",
        "\n",
        "    for j in range(h):\n",
        "        for k in range(d):\n",
        "            for i in range(n_samples):\n",
        "                dW1[k, j] += dZ1[i, j] * X_np[i, k]\n",
        "        dW1[:, j] /= n_samples\n",
        "        db1[j] = np.sum(dZ1[:, j]) / n_samples\n",
        "\n",
        "    # Update\n",
        "    W1 -= lr * dW1\n",
        "    b1 -= lr * db1\n",
        "    W2 -= lr * dW2\n",
        "    b2 -= lr * db2\n",
        "\n",
        "print(\"\")\n",
        "print(f\"{'Loop:':<15}{time.time() - start}\")\n"
      ],
      "metadata": {
        "colab": {
          "base_uri": "https://localhost:8080/"
        },
        "id": "vCdctSoGbwC4",
        "outputId": "7ea7f872-e93f-4565-8e7e-8e8b10d905d7"
      },
      "execution_count": null,
      "outputs": [
        {
          "output_type": "stream",
          "name": "stderr",
          "text": [
            "100%|██████████| 10/10 [00:06<00:00,  1.49it/s]"
          ]
        },
        {
          "output_type": "stream",
          "name": "stdout",
          "text": [
            "\n",
            "Loop:          6.712578296661377\n"
          ]
        },
        {
          "output_type": "stream",
          "name": "stderr",
          "text": [
            "\n"
          ]
        }
      ]
    },
    {
      "cell_type": "code",
      "source": [
        "# Convert to PyTorch\n",
        "X = torch.tensor(X_np, dtype=torch.float32)\n",
        "y = torch.tensor(y_np, dtype=torch.float32).view(-1, 1)\n",
        "\n",
        "W1 = torch.randn(d, h, requires_grad=True)\n",
        "b1 = torch.zeros(h, requires_grad=True)\n",
        "W2 = torch.randn(h, 1, requires_grad=True)\n",
        "b2 = torch.zeros(1, requires_grad=True)\n",
        "lr = 0.1\n",
        "\n",
        "start = time.time()\n",
        "for epoch in tqdm(range(10)):\n",
        "    # Forward\n",
        "    Z1 = X @ W1 + b1\n",
        "    A1 = F.relu(Z1)\n",
        "    Z2 = A1 @ W2 + b2\n",
        "    loss = F.binary_cross_entropy_with_logits(Z2, y)\n",
        "\n",
        "    # Backward\n",
        "    loss.backward()\n",
        "\n",
        "    # Gradient descent\n",
        "    with torch.no_grad():\n",
        "        W1 -= lr * W1.grad\n",
        "        b1 -= lr * b1.grad\n",
        "        W2 -= lr * W2.grad\n",
        "        b2 -= lr * b2.grad\n",
        "        W1.grad.zero_()\n",
        "        b1.grad.zero_()\n",
        "        W2.grad.zero_()\n",
        "        b2.grad.zero_()\n",
        "\n",
        "print(\"\")\n",
        "print(f\"{'Vectorized and autodiff:':<20}{time.time() - start}\")\n"
      ],
      "metadata": {
        "colab": {
          "base_uri": "https://localhost:8080/"
        },
        "id": "4iDASB2Dcpnc",
        "outputId": "ab345247-9a0b-4265-962b-9372efb72108"
      },
      "execution_count": null,
      "outputs": [
        {
          "output_type": "stream",
          "name": "stderr",
          "text": [
            "100%|██████████| 10/10 [00:00<00:00, 1030.85it/s]"
          ]
        },
        {
          "output_type": "stream",
          "name": "stdout",
          "text": [
            "\n",
            "Vectorized and autodiff:0.013457298278808594\n"
          ]
        },
        {
          "output_type": "stream",
          "name": "stderr",
          "text": [
            "\n"
          ]
        }
      ]
    },
    {
      "cell_type": "markdown",
      "source": [
        "## Vectorization - another definition\n",
        "\n",
        "Vectorization is jargon for a classic approach of converting input data from its raw format (i.e. text ) into vectors of real numbers which is the format that ML models support. This approach has been there ever since computers were first built, it has worked wonderfully across various domains, and it’s now used in NLP.\n",
        "\n",
        "In Machine Learning, vectorization is a step in feature extraction. The idea is to get some distinct features out of the text for the model to train on, by converting text to numerical vectors.\n",
        "\n",
        "*Source: [Neptune AI blog](https://neptune.ai/blog/vectorization-techniques-in-nlp-guide#:~:text=In%20Machine%20Learning%2C%20vectorization%20is,converting%20text%20to%20numerical%20vectors.)*\n",
        "\n",
        "### 1. One-Hot Encoding and Bag-of-Words (BoW)\n",
        "\n",
        "* Vocabulary size $V$\n",
        "* Represent a word $w_i \\in V$ as a vector $\\vec{e}_i \\in \\mathbb{R}^V$\n",
        "* BoW: count vector over a document\n",
        "\n",
        "**Limitations**:\n",
        "\n",
        "* Ignores word order (syntax/semantics)\n",
        "* Sparse and memory inefficient\n"
      ],
      "metadata": {
        "id": "T4IN7386dlq1"
      }
    },
    {
      "cell_type": "code",
      "source": [
        "from sklearn.feature_extraction.text import CountVectorizer\n",
        "\n",
        "corpus = [\"NLP is fun\", \"Vectorization is essential in NLP\"]\n",
        "vectorizer = CountVectorizer()\n",
        "X = vectorizer.fit_transform(corpus)\n",
        "\n",
        "print(vectorizer.get_feature_names_out())\n",
        "print(X.toarray())"
      ],
      "metadata": {
        "colab": {
          "base_uri": "https://localhost:8080/"
        },
        "id": "iUhsaC3bdJ8A",
        "outputId": "296341f5-d858-479a-b007-e5c0acbf9ed1"
      },
      "execution_count": null,
      "outputs": [
        {
          "output_type": "stream",
          "name": "stdout",
          "text": [
            "['essential' 'fun' 'in' 'is' 'nlp' 'vectorization']\n",
            "[[0 1 0 1 1 0]\n",
            " [1 0 1 1 1 1]]\n"
          ]
        }
      ]
    },
    {
      "cell_type": "markdown",
      "source": [
        "\n",
        "\n",
        "### 2. TF-IDF\n",
        "\n",
        "TF-IDF or Term Frequency–Inverse Document Frequency, is a numerical statistic that’s intended to reflect how important a word is to a document. Although it’s another frequency-based method, it’s not as naive as Bag of Words.\n",
        "Absolutely! Let's break down the formula for **TF-IDF**—**Term Frequency-Inverse Document Frequency**—which is a way to weigh how important a word is to a document in a collection (corpus).\n",
        "\n",
        "\n",
        "For a term $t$ in a document $d$, within a corpus $D$:\n",
        "\n",
        "$$\n",
        "\\text{TF-IDF}(t, d, D) = \\text{TF}(t, d) \\times \\text{IDF}(t, D)\n",
        "$$\n",
        "\n",
        "TF measures **how frequently a term appears in a document**.\n",
        "\n",
        "$$\n",
        "\\text{TF}(t, d) = \\frac{\\text{Number of times } t \\text{ appears in } d}{\\text{Total number of terms in } d}\n",
        "$$\n",
        "\n",
        "IDF **how unique or rare a term is across all documents**.\n",
        "\n",
        "$$\n",
        "\\text{IDF}(t, D) = \\log\\left(\\frac{N}{1 + \\text{DF}(t)}\\right)\n",
        "$$\n",
        "\n",
        "Where:\n",
        "\n",
        "* $N$ = total number of documents\n",
        "\n",
        "* $\\text{DF}(t)$ = number of documents containing the term $t$\n"
      ],
      "metadata": {
        "id": "A8rXEorIe2Om"
      }
    },
    {
      "cell_type": "code",
      "source": [
        "from sklearn.feature_extraction.text import TfidfVectorizer\n",
        "\n",
        "vectorizer = TfidfVectorizer()\n",
        "X = vectorizer.fit_transform(corpus)\n",
        "print(X.toarray())"
      ],
      "metadata": {
        "colab": {
          "base_uri": "https://localhost:8080/"
        },
        "id": "Y8otsbzSe1jm",
        "outputId": "458003cc-a3ef-49ec-e504-f58b57b60303"
      },
      "execution_count": null,
      "outputs": [
        {
          "output_type": "stream",
          "name": "stdout",
          "text": [
            "[[0.         0.70490949 0.         0.50154891 0.50154891 0.        ]\n",
            " [0.49922133 0.         0.49922133 0.35520009 0.35520009 0.49922133]]\n"
          ]
        }
      ]
    },
    {
      "cell_type": "markdown",
      "source": [
        "\n",
        "### 3. Word2Vec\n",
        "\n",
        "This approach uses the power of a simple Neural Network to generate word embeddings.\n",
        "\n",
        "How does Word2Vec improve over frequency-based methods?\n",
        "\n",
        "In Bag of Words and TF-IDF, we saw how every word was treated as an individual entity, and semantics were completely ignored. With the introduction of Word2Vec, the vector representation of words was said to be contextually aware, probably for the first time ever.\n",
        "\n",
        "Perhaps, one of the most famous examples of Word2Vec is the following expression:\n",
        "\n",
        "```king – man + woman = queen```\n",
        "\n",
        "Since every word is represented as an n-dimensional vector, one can imagine that all of the words are mapped to this n-dimensional space in such a manner that words having similar meanings exist in close proximity to one another in this hyperspace.\n",
        "\n",
        "There are mainly two ways to implement Word2Vec, let’s take a look at them one by one:\n",
        "\n",
        "  * Skip-gram\n",
        "  * CBOW\n",
        "\n",
        "Let us understand one of them.\n",
        "\n",
        "**Skip-Gram**: The first one is the Skip-Gram method in which we provide a word to our Neural Network and ask it to predict the context. The general idea can be captured with the help of the following image:\n",
        "![image.png](data:image/png;base64,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)\n",
        "\n",
        "Here `w[i]` is the input word at an `i` location in the sentence, and the output contains two preceding words and two succeeding words with respect to `i`.\n",
        "\n",
        "Technically, it predicts the probabilities of a word being a context word for the given target word. The output probabilities coming out of the network will tell us how likely it is to find each vocabulary word near our input word.\n",
        "This shallow network comprises an input layer, a single hidden layer, and an output layer, we’ll take a look at that shortly.\n",
        "\n",
        "How many neighboring words the network is going to predict is determined by a parameter called “window size”. This window extends in both the directions of the word, i.e. to its left and right.\n",
        "\n",
        "Let’s say we want to train a skip-gram word2vec model over an input sentence:\n",
        "\n",
        "“The quick brown fox jumps over the lazy dog”\n",
        "\n",
        "The following image illustrates the training samples that would generate from this sentence with a window size = 2.\n",
        "\n",
        "![image.png](data:image/png;base64,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)\n",
        "\n",
        "Vectorization techniques - w2v_window\n",
        "‘The’ becomes the first target word and since it’s the first word of the sentence, there are no words to its left, so the window of size 2 only extends to its right resulting in the listed training samples.\n",
        "As our target shifts to the next word, the window expands by 1 on left because of the presence of a word on the left of the target.\n",
        "Finally, when the target word is somewhere in the middle, training samples get generated as intended."
      ],
      "metadata": {
        "id": "j46SQxJ0fK-L"
      }
    },
    {
      "cell_type": "markdown",
      "source": [
        "**Goal**: Learn a vector for each word based on its context using a shallow neural network.\n",
        "\n",
        "#### Skip-gram Objective:\n",
        "\n",
        "Given a center word $w_t$, predict surrounding context words $w_{t \\pm k}$:\n",
        "\n",
        "$$\n",
        "\\max \\sum_{t=1}^{T} \\sum_{-k \\leq j \\leq k, j \\neq 0} \\log P(w_{t+j} \\mid w_t)\n",
        "$$\n",
        "\n",
        "Where:\n",
        "\n",
        "* $P(w_{context} \\mid w_{center}) = \\frac{\\exp(v_{context}^\\top v_{center})}{\\sum_{w'} \\exp(v_{w'}^\\top v_{center})}$\n",
        "* $v_w$: learned embedding of word $w$\n",
        "\n",
        "These are **static embeddings**: each word has a fixed vector regardless of context.\n",
        "\n"
      ],
      "metadata": {
        "id": "Kh9zixwrK_ZW"
      }
    },
    {
      "cell_type": "code",
      "source": [
        "from gensim.models import Word2Vec\n",
        "\n",
        "# Example training data (small toy corpus)\n",
        "sentences = [\n",
        "    [\"king\", \"queen\", \"man\", \"woman\"],\n",
        "    [\"paris\", \"france\", \"rome\", \"italy\"],\n",
        "    [\"apple\", \"orange\", \"banana\", \"fruit\"]\n",
        "]\n",
        "\n",
        "# Train Word2Vec model\n",
        "model = Word2Vec(sentences, vector_size=50, window=2, min_count=1, sg=1)\n",
        "\n",
        "# Show most similar words to 'king' based on cosine similarity\n",
        "similar_words = model.wv.most_similar(\"king\", topn=5)\n",
        "\n",
        "print(\"Nearest neighbors to 'king':\")\n",
        "for word, similarity in similar_words:\n",
        "    print(f\"{word} : {similarity:.4f}\")\n"
      ],
      "metadata": {
        "id": "UOItA3WEGzzy"
      },
      "execution_count": null,
      "outputs": []
    },
    {
      "cell_type": "markdown",
      "source": [
        "\n",
        "\n",
        "### 6. Transformer Embeddings (BERT)\n",
        "\n",
        "These are contextual embeddings using attention over entire input.\n",
        "\n",
        "\n",
        "#### a. **Input Representation**\n",
        "\n",
        "Each token in a sentence is converted to a vector:\n",
        "\n",
        "$$\n",
        "\\mathbf{x}_i = \\text{TokenEmbedding}(w_i) + \\text{PositionEmbedding}(i)\n",
        "$$\n",
        "\n",
        "Where:\n",
        "\n",
        "* $w_i$: the $i$-th token (word/piece)\n",
        "* $\\mathbf{x}_i \\in \\mathbb{R}^d$: input embedding vector\n",
        "* $d$: embedding dimension\n",
        "\n",
        "\n",
        "#### b. **Self-Attention**\n",
        "\n",
        "Each input vector $\\mathbf{x}_i$ is passed through multiple Transformer layers. At each layer, self-attention computes:\n",
        "\n",
        "$$\n",
        "\\text{Attention}(\\mathbf{Q}, \\mathbf{K}, \\mathbf{V}) = \\text{softmax}\\left(\\frac{\\mathbf{Q}\\mathbf{K}^\\top}{\\sqrt{d_k}}\\right)\\mathbf{V}\n",
        "$$\n",
        "\n",
        "Where for each token:\n",
        "\n",
        "* $\\mathbf{Q}_i = \\mathbf{W}^Q \\mathbf{x}_i$\n",
        "* $\\mathbf{K}_i = \\mathbf{W}^K \\mathbf{x}_i$\n",
        "* $\\mathbf{V}_i = \\mathbf{W}^V \\mathbf{x}_i$\n",
        "\n",
        "And $\\mathbf{W}^Q, \\mathbf{W}^K, \\mathbf{W}^V$ are learned matrices.\n",
        "\n",
        "The result is a context-aware embedding $\\mathbf{h}_i^{(L)} \\in \\mathbb{R}^d$ after $L$ layers.\n",
        "\n",
        "\n",
        "#### c. **Transformer Layer**:\n",
        "\n",
        "Multiple self-attention heads + feedforward layers:\n",
        "\n",
        "$$\n",
        "\\text{Output}_i = \\text{LayerNorm}(x_i + \\text{FFN}(\\text{SelfAttention}(x)))\n",
        "$$\n",
        "\n",
        "Stacking many such layers, BERT produces final embeddings $\\mathbf{h}_i^{(L)}$ for each word:\n",
        "\n",
        "$$\n",
        "\\mathbf{h}_1^{(L)}, \\dots, \\mathbf{h}_n^{(L)}\n",
        "$$\n",
        "\n",
        "These capture the **meaning of each token in its sentence context**.\n",
        "\n",
        "\n",
        "\n"
      ],
      "metadata": {
        "id": "HsEeCYxrfsOS"
      }
    },
    {
      "cell_type": "code",
      "source": [
        "from transformers import AutoTokenizer, AutoModel\n",
        "import torch\n",
        "\n",
        "tokenizer = AutoTokenizer.from_pretrained(\"bert-base-uncased\")\n",
        "model = AutoModel.from_pretrained(\"bert-base-uncased\")\n",
        "\n",
        "inputs = tokenizer(\"NLP is cool\", return_tensors=\"pt\")\n",
        "outputs = model(**inputs)\n",
        "print(outputs.last_hidden_state.shape)  # [1, tokens, 768]"
      ],
      "metadata": {
        "colab": {
          "base_uri": "https://localhost:8080/",
          "height": 318,
          "referenced_widgets": [
            "0ba2ee6fb55e4e788038e2e6804d82c2",
            "885d054aeb014905ae894f5324f58dbb",
            "3c09775d83844781b9b7be4a7a2d1140",
            "bbc766f191334e909a9e9420c978c525",
            "48c07f9bd8d54b0aaf008a9b4da51d81",
            "ea38adf468c747928f0d9ebe13d42e15",
            "fedb107c4d8642589738815c08f5fc96",
            "05248ec1e4aa46ce82b98fb0680d3aee",
            "e2ce856bfda1480ba211350f5ae9bf6a",
            "95bf19484dda46a28a616a697f39517d",
            "a22cd6eb5c0748f0b186f2c1e218005e",
            "a2d5a20c8708442287427aea736fa278",
            "2bb3ed42700c4a24a5050bc9e15d33f4",
            "12382a9943a74446ad320660363e3d0c",
            "6fd886c21c3d4d40aa7666e1edbe7c9e",
            "8c71e2a2d165455fb0cdbddb47c57cde",
            "f3becad18602444baffe400f6752bf36",
            "3436b76a0d9c4f7d98f7dc8d15a82182",
            "366c0fd9d4fe4a48854f41ead79131c8",
            "97237ff733e04619a20a34ff84b404ba",
            "0c96b7af15ba482ab3c0ee92c8779281",
            "c94c82fee4d84bd69dd6ac06e3fb54a0",
            "9d93d24eb4e4485cbb9fa998b80f3cf8",
            "587873fbc77349ee8aea9b2ceb9836d1",
            "aef61a61968e4a5283902e0fcc8a2569",
            "98535be518024a719e77b0b9c203d3de",
            "eb050e9b01a44654a86342ece8028cc6",
            "276500c5b2fb48788f0c3c72c5c97a46",
            "a28d86b1b3d540a4b991e4ef96f68827",
            "9a0093f31ac2495daf1626179165a29d",
            "f1aaf2c5fc8f4aee8e09e17d19922889",
            "ef6606f9a4db479da021c6fa4e20e61b",
            "9ba5c02515d245918af901b0b9084c21",
            "7aead4a5b6d9415589c9338673587108",
            "9aba12d40d5e4cdc9651724f6de362ee",
            "ff88c111077240b3b7c1a16321719467",
            "2e1395b5894f41df8bcebf85f50fbdec",
            "41d2337a9cd04c26894be1a7f9859c3c",
            "4ea2bd751d0048128fa81310521fe986",
            "a0ca720f57e94b4280a1d34cad9291e1",
            "d9548adea2a54f9eb83ba7a2cd0c13aa",
            "37ebf278d53c467db986b74ee9e96dde",
            "3990742e6dc441569bc25465c85e11aa",
            "ebe6b6cd0c5b4b6899103ce158caace3",
            "cc80aebcf49d487290d6c712eaa33b14",
            "7a1dc4dac6754fc693f4ae451aee40d0",
            "4a10498858ea4081be3502bf69927135",
            "158f007170b44d789dcb4f2e3a25e332",
            "602d2ea6cdfd4591ae2b762b3004bd05",
            "fffcedf3727945e386f3c1505b2afcfc",
            "e43c28a008b240adbfb283422f37e519",
            "94f5df3e6e134daeb0ea1d518c7021ae",
            "9d404a63b5cb42fcb1a0534e8d78b6ae",
            "7e296bb480b14a77ae2bcd1d90556f12",
            "93507fbf6bb747739bf1215fc05b2005"
          ]
        },
        "id": "Nrnd5jZifmw4",
        "outputId": "eedecd65-4500-43fe-d92e-51262f2b2a25"
      },
      "execution_count": null,
      "outputs": [
        {
          "output_type": "stream",
          "name": "stderr",
          "text": [
            "/usr/local/lib/python3.11/dist-packages/huggingface_hub/utils/_auth.py:94: UserWarning: \n",
            "The secret `HF_TOKEN` does not exist in your Colab secrets.\n",
            "To authenticate with the Hugging Face Hub, create a token in your settings tab (https://huggingface.co/settings/tokens), set it as secret in your Google Colab and restart your session.\n",
            "You will be able to reuse this secret in all of your notebooks.\n",
            "Please note that authentication is recommended but still optional to access public models or datasets.\n",
            "  warnings.warn(\n"
          ]
        },
        {
          "output_type": "display_data",
          "data": {
            "text/plain": [
              "tokenizer_config.json:   0%|          | 0.00/48.0 [00:00<?, ?B/s]"
            ],
            "application/vnd.jupyter.widget-view+json": {
              "version_major": 2,
              "version_minor": 0,
              "model_id": "0ba2ee6fb55e4e788038e2e6804d82c2"
            }
          },
          "metadata": {}
        },
        {
          "output_type": "display_data",
          "data": {
            "text/plain": [
              "config.json:   0%|          | 0.00/570 [00:00<?, ?B/s]"
            ],
            "application/vnd.jupyter.widget-view+json": {
              "version_major": 2,
              "version_minor": 0,
              "model_id": "a2d5a20c8708442287427aea736fa278"
            }
          },
          "metadata": {}
        },
        {
          "output_type": "display_data",
          "data": {
            "text/plain": [
              "vocab.txt:   0%|          | 0.00/232k [00:00<?, ?B/s]"
            ],
            "application/vnd.jupyter.widget-view+json": {
              "version_major": 2,
              "version_minor": 0,
              "model_id": "9d93d24eb4e4485cbb9fa998b80f3cf8"
            }
          },
          "metadata": {}
        },
        {
          "output_type": "display_data",
          "data": {
            "text/plain": [
              "tokenizer.json:   0%|          | 0.00/466k [00:00<?, ?B/s]"
            ],
            "application/vnd.jupyter.widget-view+json": {
              "version_major": 2,
              "version_minor": 0,
              "model_id": "7aead4a5b6d9415589c9338673587108"
            }
          },
          "metadata": {}
        },
        {
          "output_type": "display_data",
          "data": {
            "text/plain": [
              "model.safetensors:   0%|          | 0.00/440M [00:00<?, ?B/s]"
            ],
            "application/vnd.jupyter.widget-view+json": {
              "version_major": 2,
              "version_minor": 0,
              "model_id": "cc80aebcf49d487290d6c712eaa33b14"
            }
          },
          "metadata": {}
        },
        {
          "output_type": "stream",
          "name": "stdout",
          "text": [
            "torch.Size([1, 6, 768])\n"
          ]
        }
      ]
    },
    {
      "cell_type": "code",
      "source": [
        "inputs['input_ids'].shape"
      ],
      "metadata": {
        "colab": {
          "base_uri": "https://localhost:8080/"
        },
        "id": "YOXV64fyMNTg",
        "outputId": "09a46149-3f33-4884-bf0d-c865f75e7015"
      },
      "execution_count": null,
      "outputs": [
        {
          "output_type": "execute_result",
          "data": {
            "text/plain": [
              "torch.Size([1, 6])"
            ]
          },
          "metadata": {},
          "execution_count": 6
        }
      ]
    },
    {
      "cell_type": "code",
      "source": [
        "outputs.last_hidden_state"
      ],
      "metadata": {
        "colab": {
          "base_uri": "https://localhost:8080/"
        },
        "id": "VL3yjwV_HOj7",
        "outputId": "7a940ee1-6327-4433-9865-771ab77b4506"
      },
      "execution_count": null,
      "outputs": [
        {
          "output_type": "execute_result",
          "data": {
            "text/plain": [
              "tensor([[[-0.2110, -0.0889,  0.0351,  ..., -0.0911,  0.1138,  0.5107],\n",
              "         [ 0.2817, -0.8713,  0.4425,  ...,  0.0023,  1.0667,  0.3444],\n",
              "         [-0.1729, -0.4737,  0.2838,  ..., -0.0377, -0.2720,  0.1855],\n",
              "         [-0.2438, -0.6063,  0.2243,  ...,  0.2999,  0.2081,  0.8959],\n",
              "         [-0.0240, -1.1882,  0.2612,  ...,  0.6657,  0.1180,  0.0661],\n",
              "         [ 0.7557, -0.0592, -0.2365,  ...,  0.4078, -0.8266, -0.1610]]],\n",
              "       grad_fn=<NativeLayerNormBackward0>)"
            ]
          },
          "metadata": {},
          "execution_count": 2
        }
      ]
    },
    {
      "cell_type": "markdown",
      "source": [
        "### Comparison: BERT vs Word2Vec\n",
        "\n",
        "| Feature                | **Word2Vec**                          | **BERT (Transformer)**                    |\n",
        "| ---------------------- | ------------------------------------- | ----------------------------------------- |\n",
        "| **Context**            | Static (one embedding per word)       | Contextual (depends on sentence)          |\n",
        "| **Training Objective** | Predict context words (CBOW/SkipGram) | Masked Language Modeling (MLM)            |\n",
        "| **Model Type**         | Shallow NN                            | Deep Transformer (multi-layer)            |\n",
        "| **Directionality**     | Unidirectional or windowed            | Bidirectional (sees full sentence)        |\n",
        "| **Embeddings**         | One fixed vector per word             | Dynamic vector per word **per sentence**  |\n",
        "| **Mathematical Depth** | Dot products, shallow loss            | Attention, positional encoding, deep nets |\n",
        "\n",
        "---\n",
        "\n",
        "### Example:\n",
        "\n",
        "| Sentence                   | Word   | Word2Vec Embedding      | BERT Embedding                          |\n",
        "| -------------------------- | ------ | ----------------------- | --------------------------------------- |\n",
        "| \"He sat on the **bank**.\"  | `bank` | Same as in all contexts | Embedding reflects \"river bank\" meaning |\n",
        "| \"She works at a **bank**.\" | `bank` | Same                    | Embedding reflects \"financial bank\"     |\n"
      ],
      "metadata": {
        "id": "2E7qymQsJ8aL"
      }
    },
    {
      "cell_type": "code",
      "source": [],
      "metadata": {
        "id": "ZTbEItRGIdTr"
      },
      "execution_count": null,
      "outputs": []
    }
  ]
}